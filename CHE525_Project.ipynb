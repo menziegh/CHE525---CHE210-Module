{
 "cells": [
  {
   "metadata": {},
   "cell_type": "markdown",
   "source": "",
   "id": "724143bf67864612"
  },
  {
   "metadata": {},
   "cell_type": "markdown",
   "source": [
    "# Welcome to my CHE210 Module - Lesson 1\n",
    "## In this module, you will learn the following skills:\n",
    "    - How to import data directly from the UO Lab Historian\n",
    "    - How manipulate dataframes using pandas\n",
    "    - How to perform a linear regression\n",
    "    - How to use linear regression values to calculate a parameter of interest\n",
    "    - How to plot data"
   ],
   "id": "8a77807f92f26ee"
  },
  {
   "metadata": {},
   "cell_type": "markdown",
   "source": [
    "# Lab Scenario for Analysis\n",
    "This entire module will be using real data from the Spring 2024 Agitated Tank group. One of their goals was to calculate the overall heat transfer coefficient at different agitation speeds!\n",
    "\n",
    "Based on the theory behind this project, it will be necessary to perform a linear regression to find the overall heat transfer coefficient. The equation we will be finding the regression of is:\n",
    "\n",
    "$$ ln\\left( \\frac{T_{initial} - T_{inlet}}{T(t) - T_{inlet}} \\right) = \\frac{m_{inlet}}{M_{tank}} \\left( \\frac{K_2-1}{K_{2}}\\right) t $$\n",
    "\n",
    "After rearrangement of the equation and some substitutions, the manipulation results in the following equation to find the overall heat transfer coefficient:\n",
    "\n",
    "$$ U_{o} = \\left( \\frac{m_{inlet} C_{p, inlet water}}{A_{s,coil}} \\right) \\left( ln\\frac{1}{1-\\frac{M_{tank}}{m_{inlet}} m  \\right) $$"
   ],
   "id": "7f127e8902f6ba04"
  },
  {
   "metadata": {},
   "cell_type": "markdown",
   "source": "# Section 1: Importing & Manipulating Data Directly from the Historian",
   "id": "8805fd010a7754dd"
  },
  {
   "metadata": {},
   "cell_type": "markdown",
   "source": [
    "First, you will need to specify what data you want to collect. Similar to how you would navigate the UO Lab Data Retrieval website, type out the dates and times you are interested in. Make sure to include the interval you want for the data!\n",
    "\n",
    "The code for the data importation was sourced from Dr. Dave's GitHub: https://github.com/henthornlab/ChEDataCollection/blob/Main/clients/client_python_basic.py "
   ],
   "id": "806963e0c12d8ca1"
  },
  {
   "metadata": {
    "ExecuteTime": {
     "end_time": "2024-05-13T12:56:20.727095Z",
     "start_time": "2024-05-13T12:56:20.718318Z"
    }
   },
   "cell_type": "code",
   "source": [
    "startdate = '2024-04-02'\n",
    "enddate = '2024-04-02'\n",
    "\n",
    "starttime = '16:21'\n",
    "endtime = '16:45'\n",
    "\n",
    "area = '250'\n",
    "\n",
    "interval = '10s'"
   ],
   "id": "8c441c5a4359e7b7",
   "outputs": [],
   "execution_count": 31
  },
  {
   "metadata": {
    "ExecuteTime": {
     "end_time": "2024-05-13T12:56:21.433515Z",
     "start_time": "2024-05-13T12:56:21.425836Z"
    }
   },
   "cell_type": "code",
   "source": [
    "data_URL = 'https://uolab.rose-hulman.edu/csv?starttime=' + starttime + '&endtime=' + endtime + '&startdate=' + \\\n",
    "startdate + '&enddate=' + enddate + '&area=' + area + '&interval=' + interval"
   ],
   "id": "66f2aca59a49aa39",
   "outputs": [],
   "execution_count": 32
  },
  {
   "metadata": {},
   "cell_type": "markdown",
   "source": [
    "Above, the first code block simply has the information you want to grab for analysis. \n",
    "\n",
    "The second code block involves actually taking the information you specified and feeding it into the URL connected to the UO Lab Historian. From this, you are getting a file that has all the values we need for data collection."
   ],
   "id": "d30bf5c672efc050"
  },
  {
   "metadata": {},
   "cell_type": "markdown",
   "source": [
    "### Now, let's import a software library called \"pandas.\" Pandas is useful for data analysis and manipulation. \n",
    "\n",
    "We will create a dataframe to house all of the information from the Historian. The URL will be providing the file as a comma separated file (csv), so we use the pd.read_csv().\n",
    "\n",
    "After you have imported the file, test out df.head() and df.tail() to see portions of the data and become familiar with the layout of the dataframe."
   ],
   "id": "c7bbb456add4808c"
  },
  {
   "metadata": {
    "ExecuteTime": {
     "end_time": "2024-05-13T12:56:21.582932Z",
     "start_time": "2024-05-13T12:56:21.577214Z"
    }
   },
   "cell_type": "code",
   "source": [
    "# Import libraries\n",
    "import pandas as pd"
   ],
   "id": "23fd666a0976c75",
   "outputs": [],
   "execution_count": 33
  },
  {
   "metadata": {
    "ExecuteTime": {
     "end_time": "2024-05-13T12:56:21.819547Z",
     "start_time": "2024-05-13T12:56:21.683627Z"
    }
   },
   "cell_type": "code",
   "source": [
    "df = pd.read_csv(data_URL)\n",
    "df.head()"
   ],
   "id": "570ff61838cd22b2",
   "outputs": [
    {
     "data": {
      "text/plain": [
       "  Timestamp  TE250-R01/AI1/OUT.CV °C  TE250-R02/AI1/OUT.CV °C  \\\n",
       "0  16:21:00                61.170197               119.489288   \n",
       "1  16:21:10                61.795044               119.585419   \n",
       "2  16:21:20                62.035370               116.252899   \n",
       "3  16:21:30                61.763000               104.701233   \n",
       "4  16:21:40                61.346436                99.974823   \n",
       "\n",
       "   TE250-R03/AI1/OUT.CV °C  TE250-R04/AI1/OUT.CV °C  \n",
       "0                64.230347                63.797760  \n",
       "1                64.662933                64.262390  \n",
       "2                65.143585                64.598846  \n",
       "3                65.399933                64.662933  \n",
       "4                65.431976                64.630890  "
      ],
      "text/html": [
       "<div>\n",
       "<style scoped>\n",
       "    .dataframe tbody tr th:only-of-type {\n",
       "        vertical-align: middle;\n",
       "    }\n",
       "\n",
       "    .dataframe tbody tr th {\n",
       "        vertical-align: top;\n",
       "    }\n",
       "\n",
       "    .dataframe thead th {\n",
       "        text-align: right;\n",
       "    }\n",
       "</style>\n",
       "<table border=\"1\" class=\"dataframe\">\n",
       "  <thead>\n",
       "    <tr style=\"text-align: right;\">\n",
       "      <th></th>\n",
       "      <th>Timestamp</th>\n",
       "      <th>TE250-R01/AI1/OUT.CV °C</th>\n",
       "      <th>TE250-R02/AI1/OUT.CV °C</th>\n",
       "      <th>TE250-R03/AI1/OUT.CV °C</th>\n",
       "      <th>TE250-R04/AI1/OUT.CV °C</th>\n",
       "    </tr>\n",
       "  </thead>\n",
       "  <tbody>\n",
       "    <tr>\n",
       "      <th>0</th>\n",
       "      <td>16:21:00</td>\n",
       "      <td>61.170197</td>\n",
       "      <td>119.489288</td>\n",
       "      <td>64.230347</td>\n",
       "      <td>63.797760</td>\n",
       "    </tr>\n",
       "    <tr>\n",
       "      <th>1</th>\n",
       "      <td>16:21:10</td>\n",
       "      <td>61.795044</td>\n",
       "      <td>119.585419</td>\n",
       "      <td>64.662933</td>\n",
       "      <td>64.262390</td>\n",
       "    </tr>\n",
       "    <tr>\n",
       "      <th>2</th>\n",
       "      <td>16:21:20</td>\n",
       "      <td>62.035370</td>\n",
       "      <td>116.252899</td>\n",
       "      <td>65.143585</td>\n",
       "      <td>64.598846</td>\n",
       "    </tr>\n",
       "    <tr>\n",
       "      <th>3</th>\n",
       "      <td>16:21:30</td>\n",
       "      <td>61.763000</td>\n",
       "      <td>104.701233</td>\n",
       "      <td>65.399933</td>\n",
       "      <td>64.662933</td>\n",
       "    </tr>\n",
       "    <tr>\n",
       "      <th>4</th>\n",
       "      <td>16:21:40</td>\n",
       "      <td>61.346436</td>\n",
       "      <td>99.974823</td>\n",
       "      <td>65.431976</td>\n",
       "      <td>64.630890</td>\n",
       "    </tr>\n",
       "  </tbody>\n",
       "</table>\n",
       "</div>"
      ]
     },
     "execution_count": 34,
     "metadata": {},
     "output_type": "execute_result"
    }
   ],
   "execution_count": 34
  },
  {
   "metadata": {},
   "cell_type": "markdown",
   "source": [
    "### To Delete or Drop Columns from a Dataframe:\n",
    "\n",
    "For agitated tank, it turns out that we don't need the first column of information for our analysis. To make our lives easier, let's get rid of the column entirely so we don't get confused.\n",
    "\n",
    "When making large manipulations to your dataframe, make sure you do \"df = \" before your chosen manipulation. This ensures that you overwrite your previous dataframe. To check that your change was made, use df.head()\n",
    "\n",
    "Deciding which columns are necessary requires understanding your unit's P&ID! This lab group used their P&ID to determine that the first column was not necessary."
   ],
   "id": "a6446db73fc47f5d"
  },
  {
   "metadata": {
    "ExecuteTime": {
     "end_time": "2024-05-13T12:56:21.842953Z",
     "start_time": "2024-05-13T12:56:21.823530Z"
    }
   },
   "cell_type": "code",
   "source": [
    "df = df.drop(columns='TE250-R01/AI1/OUT.CV °C')\n",
    "df.head()"
   ],
   "id": "f29cff2a71b95a0e",
   "outputs": [
    {
     "data": {
      "text/plain": [
       "  Timestamp  TE250-R02/AI1/OUT.CV °C  TE250-R03/AI1/OUT.CV °C  \\\n",
       "0  16:21:00               119.489288                64.230347   \n",
       "1  16:21:10               119.585419                64.662933   \n",
       "2  16:21:20               116.252899                65.143585   \n",
       "3  16:21:30               104.701233                65.399933   \n",
       "4  16:21:40                99.974823                65.431976   \n",
       "\n",
       "   TE250-R04/AI1/OUT.CV °C  \n",
       "0                63.797760  \n",
       "1                64.262390  \n",
       "2                64.598846  \n",
       "3                64.662933  \n",
       "4                64.630890  "
      ],
      "text/html": [
       "<div>\n",
       "<style scoped>\n",
       "    .dataframe tbody tr th:only-of-type {\n",
       "        vertical-align: middle;\n",
       "    }\n",
       "\n",
       "    .dataframe tbody tr th {\n",
       "        vertical-align: top;\n",
       "    }\n",
       "\n",
       "    .dataframe thead th {\n",
       "        text-align: right;\n",
       "    }\n",
       "</style>\n",
       "<table border=\"1\" class=\"dataframe\">\n",
       "  <thead>\n",
       "    <tr style=\"text-align: right;\">\n",
       "      <th></th>\n",
       "      <th>Timestamp</th>\n",
       "      <th>TE250-R02/AI1/OUT.CV °C</th>\n",
       "      <th>TE250-R03/AI1/OUT.CV °C</th>\n",
       "      <th>TE250-R04/AI1/OUT.CV °C</th>\n",
       "    </tr>\n",
       "  </thead>\n",
       "  <tbody>\n",
       "    <tr>\n",
       "      <th>0</th>\n",
       "      <td>16:21:00</td>\n",
       "      <td>119.489288</td>\n",
       "      <td>64.230347</td>\n",
       "      <td>63.797760</td>\n",
       "    </tr>\n",
       "    <tr>\n",
       "      <th>1</th>\n",
       "      <td>16:21:10</td>\n",
       "      <td>119.585419</td>\n",
       "      <td>64.662933</td>\n",
       "      <td>64.262390</td>\n",
       "    </tr>\n",
       "    <tr>\n",
       "      <th>2</th>\n",
       "      <td>16:21:20</td>\n",
       "      <td>116.252899</td>\n",
       "      <td>65.143585</td>\n",
       "      <td>64.598846</td>\n",
       "    </tr>\n",
       "    <tr>\n",
       "      <th>3</th>\n",
       "      <td>16:21:30</td>\n",
       "      <td>104.701233</td>\n",
       "      <td>65.399933</td>\n",
       "      <td>64.662933</td>\n",
       "    </tr>\n",
       "    <tr>\n",
       "      <th>4</th>\n",
       "      <td>16:21:40</td>\n",
       "      <td>99.974823</td>\n",
       "      <td>65.431976</td>\n",
       "      <td>64.630890</td>\n",
       "    </tr>\n",
       "  </tbody>\n",
       "</table>\n",
       "</div>"
      ]
     },
     "execution_count": 35,
     "metadata": {},
     "output_type": "execute_result"
    }
   ],
   "execution_count": 35
  },
  {
   "metadata": {},
   "cell_type": "markdown",
   "source": [
    "### Renaming Columns \n",
    "\n",
    "Now that we have shortened it down to only the necessary columns, we should rename them so they are easier to reference later in the program.\n",
    "\n",
    "Changing columns & adding columns (which we will use later) are scenarios where it is not necessary to do \"df =\" as the changes will be applied automatically."
   ],
   "id": "3da7a4f554e1a625"
  },
  {
   "metadata": {
    "ExecuteTime": {
     "end_time": "2024-05-13T12:56:21.950380Z",
     "start_time": "2024-05-13T12:56:21.943144Z"
    }
   },
   "cell_type": "code",
   "source": "df.columns = ['Timestamp','Coil_Inlet','Tank_Temp_Outside','Tank_Temp_Inside']",
   "id": "1a18aeb60e7a898c",
   "outputs": [],
   "execution_count": 36
  },
  {
   "metadata": {},
   "cell_type": "markdown",
   "source": [
    "### Adding Additional Columns\n",
    "\n",
    "To meet the objective, we need to create a column that represents the average temperature of the tank. \n",
    "\n",
    "We can do that by simply referencing the two columns and inputting the appropriate manipulations."
   ],
   "id": "5d85e2a4063687a4"
  },
  {
   "metadata": {
    "ExecuteTime": {
     "end_time": "2024-05-13T12:56:22.352647Z",
     "start_time": "2024-05-13T12:56:22.327134Z"
    }
   },
   "cell_type": "code",
   "source": [
    "df['Avg_Tank_Temp'] = (df['Tank_Temp_Outside']+df['Tank_Temp_Inside'])/2\n",
    "df.head()"
   ],
   "id": "d5ade430762afb6f",
   "outputs": [
    {
     "data": {
      "text/plain": [
       "  Timestamp  Coil_Inlet  Tank_Temp_Outside  Tank_Temp_Inside  Avg_Tank_Temp\n",
       "0  16:21:00  119.489288          64.230347         63.797760      64.014053\n",
       "1  16:21:10  119.585419          64.662933         64.262390      64.462662\n",
       "2  16:21:20  116.252899          65.143585         64.598846      64.871216\n",
       "3  16:21:30  104.701233          65.399933         64.662933      65.031433\n",
       "4  16:21:40   99.974823          65.431976         64.630890      65.031433"
      ],
      "text/html": [
       "<div>\n",
       "<style scoped>\n",
       "    .dataframe tbody tr th:only-of-type {\n",
       "        vertical-align: middle;\n",
       "    }\n",
       "\n",
       "    .dataframe tbody tr th {\n",
       "        vertical-align: top;\n",
       "    }\n",
       "\n",
       "    .dataframe thead th {\n",
       "        text-align: right;\n",
       "    }\n",
       "</style>\n",
       "<table border=\"1\" class=\"dataframe\">\n",
       "  <thead>\n",
       "    <tr style=\"text-align: right;\">\n",
       "      <th></th>\n",
       "      <th>Timestamp</th>\n",
       "      <th>Coil_Inlet</th>\n",
       "      <th>Tank_Temp_Outside</th>\n",
       "      <th>Tank_Temp_Inside</th>\n",
       "      <th>Avg_Tank_Temp</th>\n",
       "    </tr>\n",
       "  </thead>\n",
       "  <tbody>\n",
       "    <tr>\n",
       "      <th>0</th>\n",
       "      <td>16:21:00</td>\n",
       "      <td>119.489288</td>\n",
       "      <td>64.230347</td>\n",
       "      <td>63.797760</td>\n",
       "      <td>64.014053</td>\n",
       "    </tr>\n",
       "    <tr>\n",
       "      <th>1</th>\n",
       "      <td>16:21:10</td>\n",
       "      <td>119.585419</td>\n",
       "      <td>64.662933</td>\n",
       "      <td>64.262390</td>\n",
       "      <td>64.462662</td>\n",
       "    </tr>\n",
       "    <tr>\n",
       "      <th>2</th>\n",
       "      <td>16:21:20</td>\n",
       "      <td>116.252899</td>\n",
       "      <td>65.143585</td>\n",
       "      <td>64.598846</td>\n",
       "      <td>64.871216</td>\n",
       "    </tr>\n",
       "    <tr>\n",
       "      <th>3</th>\n",
       "      <td>16:21:30</td>\n",
       "      <td>104.701233</td>\n",
       "      <td>65.399933</td>\n",
       "      <td>64.662933</td>\n",
       "      <td>65.031433</td>\n",
       "    </tr>\n",
       "    <tr>\n",
       "      <th>4</th>\n",
       "      <td>16:21:40</td>\n",
       "      <td>99.974823</td>\n",
       "      <td>65.431976</td>\n",
       "      <td>64.630890</td>\n",
       "      <td>65.031433</td>\n",
       "    </tr>\n",
       "  </tbody>\n",
       "</table>\n",
       "</div>"
      ]
     },
     "execution_count": 37,
     "metadata": {},
     "output_type": "execute_result"
    }
   ],
   "execution_count": 37
  },
  {
   "metadata": {},
   "cell_type": "markdown",
   "source": [
    "### Querying Dataframes\n",
    "\n",
    "Querying a dataframe means that we are looking for a when a certain condition is true. You give the program a condition you want to be true. It will search through your dataframe for the entries where the condition is true. \n",
    "\n",
    "For the Agitated Tank, the group wanted to find the first point where the average temperature of the tank reaches 60 C. This first point will correspond to the \"0\" point of their data collection."
   ],
   "id": "b6813b7c49308a92"
  },
  {
   "metadata": {
    "ExecuteTime": {
     "end_time": "2024-05-13T12:56:22.869716Z",
     "start_time": "2024-05-13T12:56:22.837593Z"
    }
   },
   "cell_type": "code",
   "source": "df.query(\"Avg_Tank_Temp < 61\")",
   "id": "6d41e17135e25634",
   "outputs": [
    {
     "data": {
      "text/plain": [
       "    Timestamp  Coil_Inlet  Tank_Temp_Outside  Tank_Temp_Inside  Avg_Tank_Temp\n",
       "12   16:23:00   15.876770          61.378479         60.160828      60.769653\n",
       "13   16:23:10   15.460205          60.785675         59.584045      60.184860\n",
       "14   16:23:20   15.123749          60.176849         58.975220      59.576035\n",
       "15   16:23:30   14.819336          59.584045         58.398438      58.991241\n",
       "16   16:23:40   14.627075          59.023285         57.837677      58.430481\n",
       "..        ...         ...                ...               ...            ...\n",
       "140  16:44:20   13.072968          23.599243         22.910309      23.254776\n",
       "141  16:44:30   13.072968          23.487091         22.798157      23.142624\n",
       "142  16:44:40   13.072968          23.374939         22.669983      23.022461\n",
       "143  16:44:50   13.072968          23.246765         22.557831      22.902298\n",
       "144  16:45:00   13.088989          23.134613         22.445679      22.790146\n",
       "\n",
       "[133 rows x 5 columns]"
      ],
      "text/html": [
       "<div>\n",
       "<style scoped>\n",
       "    .dataframe tbody tr th:only-of-type {\n",
       "        vertical-align: middle;\n",
       "    }\n",
       "\n",
       "    .dataframe tbody tr th {\n",
       "        vertical-align: top;\n",
       "    }\n",
       "\n",
       "    .dataframe thead th {\n",
       "        text-align: right;\n",
       "    }\n",
       "</style>\n",
       "<table border=\"1\" class=\"dataframe\">\n",
       "  <thead>\n",
       "    <tr style=\"text-align: right;\">\n",
       "      <th></th>\n",
       "      <th>Timestamp</th>\n",
       "      <th>Coil_Inlet</th>\n",
       "      <th>Tank_Temp_Outside</th>\n",
       "      <th>Tank_Temp_Inside</th>\n",
       "      <th>Avg_Tank_Temp</th>\n",
       "    </tr>\n",
       "  </thead>\n",
       "  <tbody>\n",
       "    <tr>\n",
       "      <th>12</th>\n",
       "      <td>16:23:00</td>\n",
       "      <td>15.876770</td>\n",
       "      <td>61.378479</td>\n",
       "      <td>60.160828</td>\n",
       "      <td>60.769653</td>\n",
       "    </tr>\n",
       "    <tr>\n",
       "      <th>13</th>\n",
       "      <td>16:23:10</td>\n",
       "      <td>15.460205</td>\n",
       "      <td>60.785675</td>\n",
       "      <td>59.584045</td>\n",
       "      <td>60.184860</td>\n",
       "    </tr>\n",
       "    <tr>\n",
       "      <th>14</th>\n",
       "      <td>16:23:20</td>\n",
       "      <td>15.123749</td>\n",
       "      <td>60.176849</td>\n",
       "      <td>58.975220</td>\n",
       "      <td>59.576035</td>\n",
       "    </tr>\n",
       "    <tr>\n",
       "      <th>15</th>\n",
       "      <td>16:23:30</td>\n",
       "      <td>14.819336</td>\n",
       "      <td>59.584045</td>\n",
       "      <td>58.398438</td>\n",
       "      <td>58.991241</td>\n",
       "    </tr>\n",
       "    <tr>\n",
       "      <th>16</th>\n",
       "      <td>16:23:40</td>\n",
       "      <td>14.627075</td>\n",
       "      <td>59.023285</td>\n",
       "      <td>57.837677</td>\n",
       "      <td>58.430481</td>\n",
       "    </tr>\n",
       "    <tr>\n",
       "      <th>...</th>\n",
       "      <td>...</td>\n",
       "      <td>...</td>\n",
       "      <td>...</td>\n",
       "      <td>...</td>\n",
       "      <td>...</td>\n",
       "    </tr>\n",
       "    <tr>\n",
       "      <th>140</th>\n",
       "      <td>16:44:20</td>\n",
       "      <td>13.072968</td>\n",
       "      <td>23.599243</td>\n",
       "      <td>22.910309</td>\n",
       "      <td>23.254776</td>\n",
       "    </tr>\n",
       "    <tr>\n",
       "      <th>141</th>\n",
       "      <td>16:44:30</td>\n",
       "      <td>13.072968</td>\n",
       "      <td>23.487091</td>\n",
       "      <td>22.798157</td>\n",
       "      <td>23.142624</td>\n",
       "    </tr>\n",
       "    <tr>\n",
       "      <th>142</th>\n",
       "      <td>16:44:40</td>\n",
       "      <td>13.072968</td>\n",
       "      <td>23.374939</td>\n",
       "      <td>22.669983</td>\n",
       "      <td>23.022461</td>\n",
       "    </tr>\n",
       "    <tr>\n",
       "      <th>143</th>\n",
       "      <td>16:44:50</td>\n",
       "      <td>13.072968</td>\n",
       "      <td>23.246765</td>\n",
       "      <td>22.557831</td>\n",
       "      <td>22.902298</td>\n",
       "    </tr>\n",
       "    <tr>\n",
       "      <th>144</th>\n",
       "      <td>16:45:00</td>\n",
       "      <td>13.088989</td>\n",
       "      <td>23.134613</td>\n",
       "      <td>22.445679</td>\n",
       "      <td>22.790146</td>\n",
       "    </tr>\n",
       "  </tbody>\n",
       "</table>\n",
       "<p>133 rows × 5 columns</p>\n",
       "</div>"
      ]
     },
     "execution_count": 38,
     "metadata": {},
     "output_type": "execute_result"
    }
   ],
   "execution_count": 38
  },
  {
   "metadata": {},
   "cell_type": "markdown",
   "source": [
    "### Slicing the Data\n",
    "\n",
    "Now we know that point 12 in the dataframe is where we need to start our data analysis. Let's create a new dataframe that only include the values we want to analyze. \n",
    "\n",
    "This process is called splicing which uses the iloc[] function. iloc() says start at the 12 value in the dataframe and go all the way to the end (denoted by the 12::)."
   ],
   "id": "c19d0b47b0805e7b"
  },
  {
   "metadata": {
    "ExecuteTime": {
     "end_time": "2024-05-13T12:56:23.196796Z",
     "start_time": "2024-05-13T12:56:23.169499Z"
    }
   },
   "cell_type": "code",
   "source": [
    "df_data = df.iloc[12::]\n",
    "df_data.head()"
   ],
   "id": "4b2ade9c0a95e11f",
   "outputs": [
    {
     "data": {
      "text/plain": [
       "   Timestamp  Coil_Inlet  Tank_Temp_Outside  Tank_Temp_Inside  Avg_Tank_Temp\n",
       "12  16:23:00   15.876770          61.378479         60.160828      60.769653\n",
       "13  16:23:10   15.460205          60.785675         59.584045      60.184860\n",
       "14  16:23:20   15.123749          60.176849         58.975220      59.576035\n",
       "15  16:23:30   14.819336          59.584045         58.398438      58.991241\n",
       "16  16:23:40   14.627075          59.023285         57.837677      58.430481"
      ],
      "text/html": [
       "<div>\n",
       "<style scoped>\n",
       "    .dataframe tbody tr th:only-of-type {\n",
       "        vertical-align: middle;\n",
       "    }\n",
       "\n",
       "    .dataframe tbody tr th {\n",
       "        vertical-align: top;\n",
       "    }\n",
       "\n",
       "    .dataframe thead th {\n",
       "        text-align: right;\n",
       "    }\n",
       "</style>\n",
       "<table border=\"1\" class=\"dataframe\">\n",
       "  <thead>\n",
       "    <tr style=\"text-align: right;\">\n",
       "      <th></th>\n",
       "      <th>Timestamp</th>\n",
       "      <th>Coil_Inlet</th>\n",
       "      <th>Tank_Temp_Outside</th>\n",
       "      <th>Tank_Temp_Inside</th>\n",
       "      <th>Avg_Tank_Temp</th>\n",
       "    </tr>\n",
       "  </thead>\n",
       "  <tbody>\n",
       "    <tr>\n",
       "      <th>12</th>\n",
       "      <td>16:23:00</td>\n",
       "      <td>15.876770</td>\n",
       "      <td>61.378479</td>\n",
       "      <td>60.160828</td>\n",
       "      <td>60.769653</td>\n",
       "    </tr>\n",
       "    <tr>\n",
       "      <th>13</th>\n",
       "      <td>16:23:10</td>\n",
       "      <td>15.460205</td>\n",
       "      <td>60.785675</td>\n",
       "      <td>59.584045</td>\n",
       "      <td>60.184860</td>\n",
       "    </tr>\n",
       "    <tr>\n",
       "      <th>14</th>\n",
       "      <td>16:23:20</td>\n",
       "      <td>15.123749</td>\n",
       "      <td>60.176849</td>\n",
       "      <td>58.975220</td>\n",
       "      <td>59.576035</td>\n",
       "    </tr>\n",
       "    <tr>\n",
       "      <th>15</th>\n",
       "      <td>16:23:30</td>\n",
       "      <td>14.819336</td>\n",
       "      <td>59.584045</td>\n",
       "      <td>58.398438</td>\n",
       "      <td>58.991241</td>\n",
       "    </tr>\n",
       "    <tr>\n",
       "      <th>16</th>\n",
       "      <td>16:23:40</td>\n",
       "      <td>14.627075</td>\n",
       "      <td>59.023285</td>\n",
       "      <td>57.837677</td>\n",
       "      <td>58.430481</td>\n",
       "    </tr>\n",
       "  </tbody>\n",
       "</table>\n",
       "</div>"
      ]
     },
     "execution_count": 39,
     "metadata": {},
     "output_type": "execute_result"
    }
   ],
   "execution_count": 39
  },
  {
   "metadata": {},
   "cell_type": "markdown",
   "source": [
    "# Section 2: Preparing the Dataframe for the Linear Regression & Plotting\n",
    "\n",
    "Now that we have created the main dataframe that we are going to be working with, we need to start preparing it for the regression. \n",
    "\n",
    "This will require more fine-tuning adjustment and variable creation.\n",
    "\n",
    "From the linearized equation, we need to define some of the variables:\n",
    "* Inlet Temperature = average of all the coil inlet temperatures\n",
    "* Initial Temperature = first entry in the average tank temperature column\n",
    "\n",
    "We can then create a new column in the dataframe that creates the \\frac{T_{initial} - T_{inlet}}{T(t) - T_{inlet}} term.\n",
    "\n",
    "Note: A red error will occur when using the spliced data, but that is okay because the changes are still being made to the dataframe."
   ],
   "id": "8253511a0867cad2"
  },
  {
   "metadata": {
    "ExecuteTime": {
     "end_time": "2024-05-13T12:56:23.896097Z",
     "start_time": "2024-05-13T12:56:23.884866Z"
    }
   },
   "cell_type": "code",
   "source": "T_inlet = df_data['Coil_Inlet'].mean()",
   "id": "c1bbf24cd6deaf70",
   "outputs": [],
   "execution_count": 40
  },
  {
   "metadata": {
    "ExecuteTime": {
     "end_time": "2024-05-13T12:56:24.291225Z",
     "start_time": "2024-05-13T12:56:24.284905Z"
    }
   },
   "cell_type": "code",
   "source": "T_initial = df_data['Avg_Tank_Temp'].iloc[0]",
   "id": "c57c76c33c7ed126",
   "outputs": [],
   "execution_count": 41
  },
  {
   "metadata": {
    "ExecuteTime": {
     "end_time": "2024-05-13T12:56:24.640318Z",
     "start_time": "2024-05-13T12:56:24.625789Z"
    }
   },
   "cell_type": "code",
   "source": "df_data['Term'] = (T_initial-T_inlet)/(df_data['Avg_Tank_Temp']-T_inlet)",
   "id": "4c3eb0668b9ba30c",
   "outputs": [
    {
     "name": "stderr",
     "output_type": "stream",
     "text": [
      "C:\\Users\\menziegh\\AppData\\Local\\Temp\\ipykernel_18612\\2793588718.py:1: SettingWithCopyWarning:\n",
      "\n",
      "\n",
      "A value is trying to be set on a copy of a slice from a DataFrame.\n",
      "Try using .loc[row_indexer,col_indexer] = value instead\n",
      "\n",
      "See the caveats in the documentation: https://pandas.pydata.org/pandas-docs/stable/user_guide/indexing.html#returning-a-view-versus-a-copy\n",
      "\n"
     ]
    }
   ],
   "execution_count": 42
  },
  {
   "metadata": {},
   "cell_type": "markdown",
   "source": [
    "### Creating a Column for the Time Elapsed\n",
    "\n",
    "Creating this column is more difficult than you would initially think. The timestamp is given in a datetime format. However, we want to designate the first entry of the dataframe as time \"0\" and increase y 10 seconds with each subsequent entry. \n",
    "\n",
    "First, let's create a column called NumEntries that starts from 0 and goes the length of our dataframe. \n",
    "\n",
    "Once that has been done, create an additional column (Elapsed_Time) that multiplies all of the NumEntries by the necessary time interval (10s)."
   ],
   "id": "5b98fcfd39f0eb91"
  },
  {
   "metadata": {
    "ExecuteTime": {
     "end_time": "2024-05-13T12:56:24.794075Z",
     "start_time": "2024-05-13T12:56:24.784881Z"
    }
   },
   "cell_type": "code",
   "source": "df_data['NumEntries'] = range(0,len(df_data))",
   "id": "99309e73851c9e89",
   "outputs": [
    {
     "name": "stderr",
     "output_type": "stream",
     "text": [
      "C:\\Users\\menziegh\\AppData\\Local\\Temp\\ipykernel_18612\\2348646475.py:1: SettingWithCopyWarning:\n",
      "\n",
      "\n",
      "A value is trying to be set on a copy of a slice from a DataFrame.\n",
      "Try using .loc[row_indexer,col_indexer] = value instead\n",
      "\n",
      "See the caveats in the documentation: https://pandas.pydata.org/pandas-docs/stable/user_guide/indexing.html#returning-a-view-versus-a-copy\n",
      "\n"
     ]
    }
   ],
   "execution_count": 43
  },
  {
   "metadata": {
    "ExecuteTime": {
     "end_time": "2024-05-13T12:56:24.940045Z",
     "start_time": "2024-05-13T12:56:24.927060Z"
    }
   },
   "cell_type": "code",
   "source": "df_data['Elapsed_Time'] = df_data['NumEntries']*10",
   "id": "ffe32fd3714507d1",
   "outputs": [
    {
     "name": "stderr",
     "output_type": "stream",
     "text": [
      "C:\\Users\\menziegh\\AppData\\Local\\Temp\\ipykernel_18612\\700934763.py:1: SettingWithCopyWarning:\n",
      "\n",
      "\n",
      "A value is trying to be set on a copy of a slice from a DataFrame.\n",
      "Try using .loc[row_indexer,col_indexer] = value instead\n",
      "\n",
      "See the caveats in the documentation: https://pandas.pydata.org/pandas-docs/stable/user_guide/indexing.html#returning-a-view-versus-a-copy\n",
      "\n"
     ]
    }
   ],
   "execution_count": 44
  },
  {
   "metadata": {},
   "cell_type": "markdown",
   "source": [
    "# Section 3: Performing the Linear Regression & Plotting\n",
    "\n",
    "To create a linear regression & plot it, we will need to import three different packages:\n",
    "\n",
    "* numpy\n",
    "* sklearn\n",
    "* plotly\n",
    "\n",
    "Note: These packages are not included in the initial Jupyter Notebook that we have created, so you will need to install the packages. \n",
    "\n",
    "* Click on the tri-stack icon in the left margin of DataSpell\n",
    "* Search for: \n",
    "    * numpy \n",
    "    * scikit-learn \n",
    "    * plotly\n",
    "* Click on the install package on the right side of the screen to correctly download\n",
    "    * Clicking on install in the left panel could create errors that claim they cannot download..."
   ],
   "id": "eaa1b52abdb56ad"
  },
  {
   "metadata": {
    "ExecuteTime": {
     "end_time": "2024-05-13T12:56:25.071467Z",
     "start_time": "2024-05-13T12:56:25.060556Z"
    }
   },
   "cell_type": "code",
   "source": [
    "import numpy as np\n",
    "from sklearn import linear_model"
   ],
   "id": "4ff0488ae39aa1e0",
   "outputs": [],
   "execution_count": 45
  },
  {
   "metadata": {},
   "cell_type": "markdown",
   "source": [
    "### Converting Dataframe Columns into Numpy Arrays\n",
    "\n",
    "Unfortunately, sklearn does not like the format of dataframes. That means we need to convert them into numpy arrays that have the same shape. \n",
    "\n",
    "np.column_stack will convert the necessary column. It will convert the Elapsed_Time column into the form of [1,133] which will not match the shape of the Term column array which will be [133,1]. \n",
    "* To fix this, just transpose the Elapsed_Time column.\n",
    "\n",
    "Use the np.log() function to take the natural log of the Term values from the dataframe. That will create a Series, but we want it as an array, so convert it using the .to_numpy()"
   ],
   "id": "fcb6ad7464761e8d"
  },
  {
   "metadata": {
    "ExecuteTime": {
     "end_time": "2024-05-13T12:56:25.161167Z",
     "start_time": "2024-05-13T12:56:25.154140Z"
    }
   },
   "cell_type": "code",
   "source": "X = np.column_stack(df_data['Elapsed_Time']).T",
   "id": "a7e53efdf90fb836",
   "outputs": [],
   "execution_count": 46
  },
  {
   "metadata": {
    "ExecuteTime": {
     "end_time": "2024-05-13T12:56:25.286782Z",
     "start_time": "2024-05-13T12:56:25.281171Z"
    }
   },
   "cell_type": "code",
   "source": [
    "y = np.log(df_data['Term'])\n",
    "y = y.to_numpy()"
   ],
   "id": "e3c7a6b095963cc7",
   "outputs": [],
   "execution_count": 47
  },
  {
   "metadata": {},
   "cell_type": "markdown",
   "source": [
    "### The Regression\n",
    "\n",
    "To call the linear regression, do linear_model.LinearRegression().\n",
    "\n",
    "Then the reg.fit(X,y) says: \n",
    "* Take the linear regression of the X and y arrays that we created.\n",
    "\n",
    "Using X and y, makes it easier to differentiate between our dependent and independent variables. \n",
    "    * You can name them whatever you want though as long as you are consistent!"
   ],
   "id": "c061c76ff1763970"
  },
  {
   "metadata": {
    "ExecuteTime": {
     "end_time": "2024-05-13T12:56:25.333830Z",
     "start_time": "2024-05-13T12:56:25.315371Z"
    }
   },
   "cell_type": "code",
   "source": [
    "reg = linear_model.LinearRegression()\n",
    "reg.fit(X,y)"
   ],
   "id": "e0f054deefdac5fa",
   "outputs": [
    {
     "data": {
      "text/plain": [
       "LinearRegression()"
      ],
      "text/html": [
       "<style>#sk-container-id-2 {\n",
       "  /* Definition of color scheme common for light and dark mode */\n",
       "  --sklearn-color-text: black;\n",
       "  --sklearn-color-line: gray;\n",
       "  /* Definition of color scheme for unfitted estimators */\n",
       "  --sklearn-color-unfitted-level-0: #fff5e6;\n",
       "  --sklearn-color-unfitted-level-1: #f6e4d2;\n",
       "  --sklearn-color-unfitted-level-2: #ffe0b3;\n",
       "  --sklearn-color-unfitted-level-3: chocolate;\n",
       "  /* Definition of color scheme for fitted estimators */\n",
       "  --sklearn-color-fitted-level-0: #f0f8ff;\n",
       "  --sklearn-color-fitted-level-1: #d4ebff;\n",
       "  --sklearn-color-fitted-level-2: #b3dbfd;\n",
       "  --sklearn-color-fitted-level-3: cornflowerblue;\n",
       "\n",
       "  /* Specific color for light theme */\n",
       "  --sklearn-color-text-on-default-background: var(--sg-text-color, var(--theme-code-foreground, var(--jp-content-font-color1, black)));\n",
       "  --sklearn-color-background: var(--sg-background-color, var(--theme-background, var(--jp-layout-color0, white)));\n",
       "  --sklearn-color-border-box: var(--sg-text-color, var(--theme-code-foreground, var(--jp-content-font-color1, black)));\n",
       "  --sklearn-color-icon: #696969;\n",
       "\n",
       "  @media (prefers-color-scheme: dark) {\n",
       "    /* Redefinition of color scheme for dark theme */\n",
       "    --sklearn-color-text-on-default-background: var(--sg-text-color, var(--theme-code-foreground, var(--jp-content-font-color1, white)));\n",
       "    --sklearn-color-background: var(--sg-background-color, var(--theme-background, var(--jp-layout-color0, #111)));\n",
       "    --sklearn-color-border-box: var(--sg-text-color, var(--theme-code-foreground, var(--jp-content-font-color1, white)));\n",
       "    --sklearn-color-icon: #878787;\n",
       "  }\n",
       "}\n",
       "\n",
       "#sk-container-id-2 {\n",
       "  color: var(--sklearn-color-text);\n",
       "}\n",
       "\n",
       "#sk-container-id-2 pre {\n",
       "  padding: 0;\n",
       "}\n",
       "\n",
       "#sk-container-id-2 input.sk-hidden--visually {\n",
       "  border: 0;\n",
       "  clip: rect(1px 1px 1px 1px);\n",
       "  clip: rect(1px, 1px, 1px, 1px);\n",
       "  height: 1px;\n",
       "  margin: -1px;\n",
       "  overflow: hidden;\n",
       "  padding: 0;\n",
       "  position: absolute;\n",
       "  width: 1px;\n",
       "}\n",
       "\n",
       "#sk-container-id-2 div.sk-dashed-wrapped {\n",
       "  border: 1px dashed var(--sklearn-color-line);\n",
       "  margin: 0 0.4em 0.5em 0.4em;\n",
       "  box-sizing: border-box;\n",
       "  padding-bottom: 0.4em;\n",
       "  background-color: var(--sklearn-color-background);\n",
       "}\n",
       "\n",
       "#sk-container-id-2 div.sk-container {\n",
       "  /* jupyter's `normalize.less` sets `[hidden] { display: none; }`\n",
       "     but bootstrap.min.css set `[hidden] { display: none !important; }`\n",
       "     so we also need the `!important` here to be able to override the\n",
       "     default hidden behavior on the sphinx rendered scikit-learn.org.\n",
       "     See: https://github.com/scikit-learn/scikit-learn/issues/21755 */\n",
       "  display: inline-block !important;\n",
       "  position: relative;\n",
       "}\n",
       "\n",
       "#sk-container-id-2 div.sk-text-repr-fallback {\n",
       "  display: none;\n",
       "}\n",
       "\n",
       "div.sk-parallel-item,\n",
       "div.sk-serial,\n",
       "div.sk-item {\n",
       "  /* draw centered vertical line to link estimators */\n",
       "  background-image: linear-gradient(var(--sklearn-color-text-on-default-background), var(--sklearn-color-text-on-default-background));\n",
       "  background-size: 2px 100%;\n",
       "  background-repeat: no-repeat;\n",
       "  background-position: center center;\n",
       "}\n",
       "\n",
       "/* Parallel-specific style estimator block */\n",
       "\n",
       "#sk-container-id-2 div.sk-parallel-item::after {\n",
       "  content: \"\";\n",
       "  width: 100%;\n",
       "  border-bottom: 2px solid var(--sklearn-color-text-on-default-background);\n",
       "  flex-grow: 1;\n",
       "}\n",
       "\n",
       "#sk-container-id-2 div.sk-parallel {\n",
       "  display: flex;\n",
       "  align-items: stretch;\n",
       "  justify-content: center;\n",
       "  background-color: var(--sklearn-color-background);\n",
       "  position: relative;\n",
       "}\n",
       "\n",
       "#sk-container-id-2 div.sk-parallel-item {\n",
       "  display: flex;\n",
       "  flex-direction: column;\n",
       "}\n",
       "\n",
       "#sk-container-id-2 div.sk-parallel-item:first-child::after {\n",
       "  align-self: flex-end;\n",
       "  width: 50%;\n",
       "}\n",
       "\n",
       "#sk-container-id-2 div.sk-parallel-item:last-child::after {\n",
       "  align-self: flex-start;\n",
       "  width: 50%;\n",
       "}\n",
       "\n",
       "#sk-container-id-2 div.sk-parallel-item:only-child::after {\n",
       "  width: 0;\n",
       "}\n",
       "\n",
       "/* Serial-specific style estimator block */\n",
       "\n",
       "#sk-container-id-2 div.sk-serial {\n",
       "  display: flex;\n",
       "  flex-direction: column;\n",
       "  align-items: center;\n",
       "  background-color: var(--sklearn-color-background);\n",
       "  padding-right: 1em;\n",
       "  padding-left: 1em;\n",
       "}\n",
       "\n",
       "\n",
       "/* Toggleable style: style used for estimator/Pipeline/ColumnTransformer box that is\n",
       "clickable and can be expanded/collapsed.\n",
       "- Pipeline and ColumnTransformer use this feature and define the default style\n",
       "- Estimators will overwrite some part of the style using the `sk-estimator` class\n",
       "*/\n",
       "\n",
       "/* Pipeline and ColumnTransformer style (default) */\n",
       "\n",
       "#sk-container-id-2 div.sk-toggleable {\n",
       "  /* Default theme specific background. It is overwritten whether we have a\n",
       "  specific estimator or a Pipeline/ColumnTransformer */\n",
       "  background-color: var(--sklearn-color-background);\n",
       "}\n",
       "\n",
       "/* Toggleable label */\n",
       "#sk-container-id-2 label.sk-toggleable__label {\n",
       "  cursor: pointer;\n",
       "  display: block;\n",
       "  width: 100%;\n",
       "  margin-bottom: 0;\n",
       "  padding: 0.5em;\n",
       "  box-sizing: border-box;\n",
       "  text-align: center;\n",
       "}\n",
       "\n",
       "#sk-container-id-2 label.sk-toggleable__label-arrow:before {\n",
       "  /* Arrow on the left of the label */\n",
       "  content: \"▸\";\n",
       "  float: left;\n",
       "  margin-right: 0.25em;\n",
       "  color: var(--sklearn-color-icon);\n",
       "}\n",
       "\n",
       "#sk-container-id-2 label.sk-toggleable__label-arrow:hover:before {\n",
       "  color: var(--sklearn-color-text);\n",
       "}\n",
       "\n",
       "/* Toggleable content - dropdown */\n",
       "\n",
       "#sk-container-id-2 div.sk-toggleable__content {\n",
       "  max-height: 0;\n",
       "  max-width: 0;\n",
       "  overflow: hidden;\n",
       "  text-align: left;\n",
       "  /* unfitted */\n",
       "  background-color: var(--sklearn-color-unfitted-level-0);\n",
       "}\n",
       "\n",
       "#sk-container-id-2 div.sk-toggleable__content.fitted {\n",
       "  /* fitted */\n",
       "  background-color: var(--sklearn-color-fitted-level-0);\n",
       "}\n",
       "\n",
       "#sk-container-id-2 div.sk-toggleable__content pre {\n",
       "  margin: 0.2em;\n",
       "  border-radius: 0.25em;\n",
       "  color: var(--sklearn-color-text);\n",
       "  /* unfitted */\n",
       "  background-color: var(--sklearn-color-unfitted-level-0);\n",
       "}\n",
       "\n",
       "#sk-container-id-2 div.sk-toggleable__content.fitted pre {\n",
       "  /* unfitted */\n",
       "  background-color: var(--sklearn-color-fitted-level-0);\n",
       "}\n",
       "\n",
       "#sk-container-id-2 input.sk-toggleable__control:checked~div.sk-toggleable__content {\n",
       "  /* Expand drop-down */\n",
       "  max-height: 200px;\n",
       "  max-width: 100%;\n",
       "  overflow: auto;\n",
       "}\n",
       "\n",
       "#sk-container-id-2 input.sk-toggleable__control:checked~label.sk-toggleable__label-arrow:before {\n",
       "  content: \"▾\";\n",
       "}\n",
       "\n",
       "/* Pipeline/ColumnTransformer-specific style */\n",
       "\n",
       "#sk-container-id-2 div.sk-label input.sk-toggleable__control:checked~label.sk-toggleable__label {\n",
       "  color: var(--sklearn-color-text);\n",
       "  background-color: var(--sklearn-color-unfitted-level-2);\n",
       "}\n",
       "\n",
       "#sk-container-id-2 div.sk-label.fitted input.sk-toggleable__control:checked~label.sk-toggleable__label {\n",
       "  background-color: var(--sklearn-color-fitted-level-2);\n",
       "}\n",
       "\n",
       "/* Estimator-specific style */\n",
       "\n",
       "/* Colorize estimator box */\n",
       "#sk-container-id-2 div.sk-estimator input.sk-toggleable__control:checked~label.sk-toggleable__label {\n",
       "  /* unfitted */\n",
       "  background-color: var(--sklearn-color-unfitted-level-2);\n",
       "}\n",
       "\n",
       "#sk-container-id-2 div.sk-estimator.fitted input.sk-toggleable__control:checked~label.sk-toggleable__label {\n",
       "  /* fitted */\n",
       "  background-color: var(--sklearn-color-fitted-level-2);\n",
       "}\n",
       "\n",
       "#sk-container-id-2 div.sk-label label.sk-toggleable__label,\n",
       "#sk-container-id-2 div.sk-label label {\n",
       "  /* The background is the default theme color */\n",
       "  color: var(--sklearn-color-text-on-default-background);\n",
       "}\n",
       "\n",
       "/* On hover, darken the color of the background */\n",
       "#sk-container-id-2 div.sk-label:hover label.sk-toggleable__label {\n",
       "  color: var(--sklearn-color-text);\n",
       "  background-color: var(--sklearn-color-unfitted-level-2);\n",
       "}\n",
       "\n",
       "/* Label box, darken color on hover, fitted */\n",
       "#sk-container-id-2 div.sk-label.fitted:hover label.sk-toggleable__label.fitted {\n",
       "  color: var(--sklearn-color-text);\n",
       "  background-color: var(--sklearn-color-fitted-level-2);\n",
       "}\n",
       "\n",
       "/* Estimator label */\n",
       "\n",
       "#sk-container-id-2 div.sk-label label {\n",
       "  font-family: monospace;\n",
       "  font-weight: bold;\n",
       "  display: inline-block;\n",
       "  line-height: 1.2em;\n",
       "}\n",
       "\n",
       "#sk-container-id-2 div.sk-label-container {\n",
       "  text-align: center;\n",
       "}\n",
       "\n",
       "/* Estimator-specific */\n",
       "#sk-container-id-2 div.sk-estimator {\n",
       "  font-family: monospace;\n",
       "  border: 1px dotted var(--sklearn-color-border-box);\n",
       "  border-radius: 0.25em;\n",
       "  box-sizing: border-box;\n",
       "  margin-bottom: 0.5em;\n",
       "  /* unfitted */\n",
       "  background-color: var(--sklearn-color-unfitted-level-0);\n",
       "}\n",
       "\n",
       "#sk-container-id-2 div.sk-estimator.fitted {\n",
       "  /* fitted */\n",
       "  background-color: var(--sklearn-color-fitted-level-0);\n",
       "}\n",
       "\n",
       "/* on hover */\n",
       "#sk-container-id-2 div.sk-estimator:hover {\n",
       "  /* unfitted */\n",
       "  background-color: var(--sklearn-color-unfitted-level-2);\n",
       "}\n",
       "\n",
       "#sk-container-id-2 div.sk-estimator.fitted:hover {\n",
       "  /* fitted */\n",
       "  background-color: var(--sklearn-color-fitted-level-2);\n",
       "}\n",
       "\n",
       "/* Specification for estimator info (e.g. \"i\" and \"?\") */\n",
       "\n",
       "/* Common style for \"i\" and \"?\" */\n",
       "\n",
       ".sk-estimator-doc-link,\n",
       "a:link.sk-estimator-doc-link,\n",
       "a:visited.sk-estimator-doc-link {\n",
       "  float: right;\n",
       "  font-size: smaller;\n",
       "  line-height: 1em;\n",
       "  font-family: monospace;\n",
       "  background-color: var(--sklearn-color-background);\n",
       "  border-radius: 1em;\n",
       "  height: 1em;\n",
       "  width: 1em;\n",
       "  text-decoration: none !important;\n",
       "  margin-left: 1ex;\n",
       "  /* unfitted */\n",
       "  border: var(--sklearn-color-unfitted-level-1) 1pt solid;\n",
       "  color: var(--sklearn-color-unfitted-level-1);\n",
       "}\n",
       "\n",
       ".sk-estimator-doc-link.fitted,\n",
       "a:link.sk-estimator-doc-link.fitted,\n",
       "a:visited.sk-estimator-doc-link.fitted {\n",
       "  /* fitted */\n",
       "  border: var(--sklearn-color-fitted-level-1) 1pt solid;\n",
       "  color: var(--sklearn-color-fitted-level-1);\n",
       "}\n",
       "\n",
       "/* On hover */\n",
       "div.sk-estimator:hover .sk-estimator-doc-link:hover,\n",
       ".sk-estimator-doc-link:hover,\n",
       "div.sk-label-container:hover .sk-estimator-doc-link:hover,\n",
       ".sk-estimator-doc-link:hover {\n",
       "  /* unfitted */\n",
       "  background-color: var(--sklearn-color-unfitted-level-3);\n",
       "  color: var(--sklearn-color-background);\n",
       "  text-decoration: none;\n",
       "}\n",
       "\n",
       "div.sk-estimator.fitted:hover .sk-estimator-doc-link.fitted:hover,\n",
       ".sk-estimator-doc-link.fitted:hover,\n",
       "div.sk-label-container:hover .sk-estimator-doc-link.fitted:hover,\n",
       ".sk-estimator-doc-link.fitted:hover {\n",
       "  /* fitted */\n",
       "  background-color: var(--sklearn-color-fitted-level-3);\n",
       "  color: var(--sklearn-color-background);\n",
       "  text-decoration: none;\n",
       "}\n",
       "\n",
       "/* Span, style for the box shown on hovering the info icon */\n",
       ".sk-estimator-doc-link span {\n",
       "  display: none;\n",
       "  z-index: 9999;\n",
       "  position: relative;\n",
       "  font-weight: normal;\n",
       "  right: .2ex;\n",
       "  padding: .5ex;\n",
       "  margin: .5ex;\n",
       "  width: min-content;\n",
       "  min-width: 20ex;\n",
       "  max-width: 50ex;\n",
       "  color: var(--sklearn-color-text);\n",
       "  box-shadow: 2pt 2pt 4pt #999;\n",
       "  /* unfitted */\n",
       "  background: var(--sklearn-color-unfitted-level-0);\n",
       "  border: .5pt solid var(--sklearn-color-unfitted-level-3);\n",
       "}\n",
       "\n",
       ".sk-estimator-doc-link.fitted span {\n",
       "  /* fitted */\n",
       "  background: var(--sklearn-color-fitted-level-0);\n",
       "  border: var(--sklearn-color-fitted-level-3);\n",
       "}\n",
       "\n",
       ".sk-estimator-doc-link:hover span {\n",
       "  display: block;\n",
       "}\n",
       "\n",
       "/* \"?\"-specific style due to the `<a>` HTML tag */\n",
       "\n",
       "#sk-container-id-2 a.estimator_doc_link {\n",
       "  float: right;\n",
       "  font-size: 1rem;\n",
       "  line-height: 1em;\n",
       "  font-family: monospace;\n",
       "  background-color: var(--sklearn-color-background);\n",
       "  border-radius: 1rem;\n",
       "  height: 1rem;\n",
       "  width: 1rem;\n",
       "  text-decoration: none;\n",
       "  /* unfitted */\n",
       "  color: var(--sklearn-color-unfitted-level-1);\n",
       "  border: var(--sklearn-color-unfitted-level-1) 1pt solid;\n",
       "}\n",
       "\n",
       "#sk-container-id-2 a.estimator_doc_link.fitted {\n",
       "  /* fitted */\n",
       "  border: var(--sklearn-color-fitted-level-1) 1pt solid;\n",
       "  color: var(--sklearn-color-fitted-level-1);\n",
       "}\n",
       "\n",
       "/* On hover */\n",
       "#sk-container-id-2 a.estimator_doc_link:hover {\n",
       "  /* unfitted */\n",
       "  background-color: var(--sklearn-color-unfitted-level-3);\n",
       "  color: var(--sklearn-color-background);\n",
       "  text-decoration: none;\n",
       "}\n",
       "\n",
       "#sk-container-id-2 a.estimator_doc_link.fitted:hover {\n",
       "  /* fitted */\n",
       "  background-color: var(--sklearn-color-fitted-level-3);\n",
       "}\n",
       "</style><div id=\"sk-container-id-2\" class=\"sk-top-container\"><div class=\"sk-text-repr-fallback\"><pre>LinearRegression()</pre><b>In a Jupyter environment, please rerun this cell to show the HTML representation or trust the notebook. <br />On GitHub, the HTML representation is unable to render, please try loading this page with nbviewer.org.</b></div><div class=\"sk-container\" hidden><div class=\"sk-item\"><div class=\"sk-estimator fitted sk-toggleable\"><input class=\"sk-toggleable__control sk-hidden--visually\" id=\"sk-estimator-id-2\" type=\"checkbox\" checked><label for=\"sk-estimator-id-2\" class=\"sk-toggleable__label fitted sk-toggleable__label-arrow fitted\">&nbsp;&nbsp;LinearRegression<a class=\"sk-estimator-doc-link fitted\" rel=\"noreferrer\" target=\"_blank\" href=\"https://scikit-learn.org/1.4/modules/generated/sklearn.linear_model.LinearRegression.html\">?<span>Documentation for LinearRegression</span></a><span class=\"sk-estimator-doc-link fitted\">i<span>Fitted</span></span></label><div class=\"sk-toggleable__content fitted\"><pre>LinearRegression()</pre></div> </div></div></div></div>"
      ]
     },
     "execution_count": 48,
     "metadata": {},
     "output_type": "execute_result"
    }
   ],
   "execution_count": 48
  },
  {
   "metadata": {},
   "cell_type": "markdown",
   "source": [
    "### Obtaining the Results\n",
    "\n",
    "You can get the $ R^2 $ value for your regression, the slope, and intercept through very simply code. \n",
    "* reg.score() = $ R^2 $\n",
    "* reg.coef_ = slope\n",
    "* reg.intercept_ = intercept"
   ],
   "id": "ba0e893b031def9d"
  },
  {
   "metadata": {
    "ExecuteTime": {
     "end_time": "2024-05-13T12:56:25.459072Z",
     "start_time": "2024-05-13T12:56:25.442434Z"
    }
   },
   "cell_type": "code",
   "source": "reg.score(X,y)",
   "id": "bb58627dffbd26cd",
   "outputs": [
    {
     "data": {
      "text/plain": [
       "0.9999634359592735"
      ]
     },
     "execution_count": 49,
     "metadata": {},
     "output_type": "execute_result"
    }
   ],
   "execution_count": 49
  },
  {
   "metadata": {
    "ExecuteTime": {
     "end_time": "2024-05-13T12:56:25.599775Z",
     "start_time": "2024-05-13T12:56:25.589946Z"
    }
   },
   "cell_type": "code",
   "source": "reg.coef_",
   "id": "c81d7932d3be3eb8",
   "outputs": [
    {
     "data": {
      "text/plain": [
       "array([0.0012288])"
      ]
     },
     "execution_count": 50,
     "metadata": {},
     "output_type": "execute_result"
    }
   ],
   "execution_count": 50
  },
  {
   "metadata": {
    "ExecuteTime": {
     "end_time": "2024-05-13T12:56:25.629158Z",
     "start_time": "2024-05-13T12:56:25.616319Z"
    }
   },
   "cell_type": "code",
   "source": "reg.intercept_",
   "id": "1f1a26aba7bc8a38",
   "outputs": [
    {
     "data": {
      "text/plain": [
       "0.007345110496613683"
      ]
     },
     "execution_count": 51,
     "metadata": {},
     "output_type": "execute_result"
    }
   ],
   "execution_count": 51
  },
  {
   "metadata": {},
   "cell_type": "markdown",
   "source": [
    "### Plot the Regression\n",
    "\n",
    "One of the most popular plotting features is plotly. You should have already installed the plotly packages as mentioned earlier. \n",
    "\n",
    "Let's import both the express and graph_object libraries."
   ],
   "id": "e2af37331e7e8d75"
  },
  {
   "metadata": {
    "ExecuteTime": {
     "end_time": "2024-05-13T12:56:25.720123Z",
     "start_time": "2024-05-13T12:56:25.711333Z"
    }
   },
   "cell_type": "code",
   "source": [
    "import plotly_express as px\n",
    "import plotly.graph_objects as go"
   ],
   "id": "301894666d2b8eab",
   "outputs": [],
   "execution_count": 52
  },
  {
   "metadata": {},
   "cell_type": "markdown",
   "source": [
    "Ideally, we want to plot both the original data and the predicted values by the regression. We performed the log when we made the arrays.\n",
    "\n",
    "Simply add a column to the dataframe that uses those values from the \"y\" array."
   ],
   "id": "ba84e4c8274a3dc"
  },
  {
   "metadata": {
    "ExecuteTime": {
     "end_time": "2024-05-13T12:56:25.854954Z",
     "start_time": "2024-05-13T12:56:25.842683Z"
    }
   },
   "cell_type": "code",
   "source": "df_data['Ln'] = y",
   "id": "651f5a87bfc030a8",
   "outputs": [
    {
     "name": "stderr",
     "output_type": "stream",
     "text": [
      "C:\\Users\\menziegh\\AppData\\Local\\Temp\\ipykernel_18612\\3028604557.py:1: SettingWithCopyWarning:\n",
      "\n",
      "\n",
      "A value is trying to be set on a copy of a slice from a DataFrame.\n",
      "Try using .loc[row_indexer,col_indexer] = value instead\n",
      "\n",
      "See the caveats in the documentation: https://pandas.pydata.org/pandas-docs/stable/user_guide/indexing.html#returning-a-view-versus-a-copy\n",
      "\n"
     ]
    }
   ],
   "execution_count": 53
  },
  {
   "metadata": {},
   "cell_type": "markdown",
   "source": "We will also need to create a column for the predicted values obtained from the regression. To do this, use the reg.coef_, X array, and reg.intercept_ values that we looked at earlier.",
   "id": "9162402707cedb2"
  },
  {
   "metadata": {
    "ExecuteTime": {
     "end_time": "2024-05-13T12:56:25.910654Z",
     "start_time": "2024-05-13T12:56:25.895376Z"
    }
   },
   "cell_type": "code",
   "source": "df_data['Predicted'] = reg.coef_*X+reg.intercept_",
   "id": "3e3580dd70fb049e",
   "outputs": [
    {
     "name": "stderr",
     "output_type": "stream",
     "text": [
      "C:\\Users\\menziegh\\AppData\\Local\\Temp\\ipykernel_18612\\2685761179.py:1: SettingWithCopyWarning:\n",
      "\n",
      "\n",
      "A value is trying to be set on a copy of a slice from a DataFrame.\n",
      "Try using .loc[row_indexer,col_indexer] = value instead\n",
      "\n",
      "See the caveats in the documentation: https://pandas.pydata.org/pandas-docs/stable/user_guide/indexing.html#returning-a-view-versus-a-copy\n",
      "\n"
     ]
    }
   ],
   "execution_count": 54
  },
  {
   "metadata": {},
   "cell_type": "markdown",
   "source": [
    "### To plot:\n",
    "* Define the figure (fig)\n",
    "* Specify the type of plot (px.scatter)\n",
    "* Identify the dataframe (df_data) & the columsn you want to plot\n",
    "\n",
    "### Adding additional plot features:\n",
    "* 'your figure name'.add_trace\n",
    "* Add to the plot type you want (go.Scatter)\n",
    "* Specify the columns of the dataframe associated with x and y\n",
    "* Specify the way you want the data to display (lines)\n",
    "* Name the trendline (Linear Fit)\n",
    "* For changing axes labels: see code"
   ],
   "id": "4aa9e7eab517bd6c"
  },
  {
   "metadata": {
    "ExecuteTime": {
     "end_time": "2024-05-13T12:56:26.100803Z",
     "start_time": "2024-05-13T12:56:26.011508Z"
    }
   },
   "cell_type": "code",
   "source": [
    "fig = px.scatter(df_data, x = 'Elapsed_Time', y = 'Ln')\n",
    "\n",
    "fig.add_trace(\n",
    "    go.Scatter(x=df_data['Elapsed_Time'], y=df_data['Predicted'],\n",
    "               mode = 'lines',\n",
    "               name = 'Linear Fit')\n",
    ")\n",
    "\n",
    "fig.update_layout(\n",
    "xaxis_title='Elapsed Time [s]',\n",
    "yaxis_title='Natural Log Term'\n",
    ")\n",
    "\n",
    "fig.show()"
   ],
   "id": "3b90a24563a1e130",
   "outputs": [
    {
     "data": {
      "application/vnd.plotly.v1+json": {
       "data": [
        {
         "hovertemplate": "Elapsed_Time=%{x}<br>Ln=%{y}<extra></extra>",
         "legendgroup": "",
         "marker": {
          "color": "#636efa",
          "symbol": "circle"
         },
         "mode": "markers",
         "name": "",
         "orientation": "v",
         "showlegend": false,
         "x": [
          0,
          10,
          20,
          30,
          40,
          50,
          60,
          70,
          80,
          90,
          100,
          110,
          120,
          130,
          140,
          150,
          160,
          170,
          180,
          190,
          200,
          210,
          220,
          230,
          240,
          250,
          260,
          270,
          280,
          290,
          300,
          310,
          320,
          330,
          340,
          350,
          360,
          370,
          380,
          390,
          400,
          410,
          420,
          430,
          440,
          450,
          460,
          470,
          480,
          490,
          500,
          510,
          520,
          530,
          540,
          550,
          560,
          570,
          580,
          590,
          600,
          610,
          620,
          630,
          640,
          650,
          660,
          670,
          680,
          690,
          700,
          710,
          720,
          730,
          740,
          750,
          760,
          770,
          780,
          790,
          800,
          810,
          820,
          830,
          840,
          850,
          860,
          870,
          880,
          890,
          900,
          910,
          920,
          930,
          940,
          950,
          960,
          970,
          980,
          990,
          1000,
          1010,
          1020,
          1030,
          1040,
          1050,
          1060,
          1070,
          1080,
          1090,
          1100,
          1110,
          1120,
          1130,
          1140,
          1150,
          1160,
          1170,
          1180,
          1190,
          1200,
          1210,
          1220,
          1230,
          1240,
          1250,
          1260,
          1270,
          1280,
          1290,
          1300,
          1310,
          1320
         ],
         "xaxis": "x",
         "y": [
          0.0,
          0.012442244718362354,
          0.025562430015895494,
          0.038328893772062375,
          0.05072570823173459,
          0.06345860165234278,
          0.07635571488851702,
          0.08923612616262104,
          0.10172188285266294,
          0.11436550683218986,
          0.1269787034923141,
          0.13994783822988222,
          0.1524953391209464,
          0.16500248966697612,
          0.17766805240406644,
          0.19049609167720238,
          0.20266072811111815,
          0.21518519887000306,
          0.22786852366221252,
          0.2404993217059933,
          0.25307351095248376,
          0.26514516244025776,
          0.2775878755650028,
          0.2904138023703634,
          0.3024890859450235,
          0.3149440285656764,
          0.32755605531202736,
          0.3398531795930008,
          0.35206251271460975,
          0.3646666495696121,
          0.37718465644902655,
          0.38936118785572954,
          0.40168781672337794,
          0.4139120229874597,
          0.4265469699650416,
          0.4388180742218595,
          0.4512416311781072,
          0.46328292783001684,
          0.4760161408980302,
          0.4880853524824681,
          0.500302011318947,
          0.512669764681252,
          0.5251923968688124,
          0.5372939048176184,
          0.5495436550474805,
          0.5619453245544865,
          0.5739011679502813,
          0.5863060819127767,
          0.5988668126829803,
          0.6109630432294826,
          0.6232073859970583,
          0.6352837366180915,
          0.6471841047376612,
          0.6602107017097758,
          0.6720815132576949,
          0.6840949355727485,
          0.6965943204389305,
          0.7082196380701905,
          0.720677907902277,
          0.7329407599182666,
          0.7449989939012042,
          0.7575656530360634,
          0.7695606316134497,
          0.7817012382749173,
          0.7939910525931723,
          0.8060544515987269,
          0.8240406566505935,
          0.8364743546646363,
          0.8482730467310093,
          0.8602126117016103,
          0.8727017745984365,
          0.884938413480633,
          0.897326644588261,
          0.9090291164067577,
          0.9212956578636635,
          0.9337145379620267,
          0.9458533230147378,
          0.9576998054700135,
          0.9696883112292843,
          0.9818222869902745,
          0.9936476791322041,
          1.0060777242024188,
          1.0177264366332779,
          1.0299867842866741,
          1.0423993158219065,
          1.0544815190381873,
          1.0667114890571157,
          1.078594674702897,
          1.090620770378088,
          1.1027932553074267,
          1.1151157373384706,
          1.1270689971810908,
          1.139166867756901,
          1.1514128909656227,
          1.1632684952540109,
          1.1758151349126396,
          1.1879653875762146,
          1.2002650865511673,
          1.2121485376385221,
          1.2241749051783555,
          1.2363476686313961,
          1.2486704360928949,
          1.2605492878710007,
          1.272570944829657,
          1.284738882342114,
          1.297056704213464,
          1.309528149087884,
          1.320887001164088,
          1.333018545396118,
          1.345299073244574,
          1.3570740414495093,
          1.3696554540320351,
          1.3817224976413733,
          1.3939369352119182,
          1.4056114149646162,
          1.4174237997490988,
          1.4307931313683835,
          1.4421918299646048,
          1.454447024796949,
          1.466120159687891,
          1.4794174007166154,
          1.491387461346253,
          1.5035025419781198,
          1.5157661996510945,
          1.5281821239008146,
          1.5391739701068647,
          1.5518858285068797,
          1.563142824230664,
          1.5761650686506845,
          1.5877003223166068,
          1.6002089890012143,
          1.61287610652901,
          1.6248452918970842
         ],
         "yaxis": "y",
         "type": "scatter"
        },
        {
         "mode": "lines",
         "name": "Linear Fit",
         "x": [
          0,
          10,
          20,
          30,
          40,
          50,
          60,
          70,
          80,
          90,
          100,
          110,
          120,
          130,
          140,
          150,
          160,
          170,
          180,
          190,
          200,
          210,
          220,
          230,
          240,
          250,
          260,
          270,
          280,
          290,
          300,
          310,
          320,
          330,
          340,
          350,
          360,
          370,
          380,
          390,
          400,
          410,
          420,
          430,
          440,
          450,
          460,
          470,
          480,
          490,
          500,
          510,
          520,
          530,
          540,
          550,
          560,
          570,
          580,
          590,
          600,
          610,
          620,
          630,
          640,
          650,
          660,
          670,
          680,
          690,
          700,
          710,
          720,
          730,
          740,
          750,
          760,
          770,
          780,
          790,
          800,
          810,
          820,
          830,
          840,
          850,
          860,
          870,
          880,
          890,
          900,
          910,
          920,
          930,
          940,
          950,
          960,
          970,
          980,
          990,
          1000,
          1010,
          1020,
          1030,
          1040,
          1050,
          1060,
          1070,
          1080,
          1090,
          1100,
          1110,
          1120,
          1130,
          1140,
          1150,
          1160,
          1170,
          1180,
          1190,
          1200,
          1210,
          1220,
          1230,
          1240,
          1250,
          1260,
          1270,
          1280,
          1290,
          1300,
          1310,
          1320
         ],
         "y": [
          0.007345110496613683,
          0.01963307915379956,
          0.03192104781098544,
          0.04420901646817131,
          0.05649698512535719,
          0.06878495378254307,
          0.08107292243972894,
          0.09336089109691481,
          0.1056488597541007,
          0.11793682841128657,
          0.13022479706847245,
          0.14251276572565832,
          0.1548007343828442,
          0.16708870304003007,
          0.17937667169721594,
          0.19166464035440184,
          0.2039526090115877,
          0.21624057766877358,
          0.22852854632595945,
          0.24081651498314532,
          0.2531044836403312,
          0.26539245229751707,
          0.27768042095470297,
          0.2899683896118888,
          0.3022563582690747,
          0.3145443269262606,
          0.32683229558344645,
          0.33912026424063235,
          0.3514082328978182,
          0.3636962015550041,
          0.37598417021219,
          0.38827213886937584,
          0.40056010752656174,
          0.4128480761837476,
          0.4251360448409335,
          0.4374240134981194,
          0.4497119821553052,
          0.4619999508124911,
          0.47428791946967697,
          0.48657588812686287,
          0.4988638567840487,
          0.5111518254412346,
          0.5234397940984205,
          0.5357277627556064,
          0.5480157314127923,
          0.5603037000699781,
          0.5725916687271639,
          0.5848796373843499,
          0.5971676060415357,
          0.6094555746987216,
          0.6217435433559075,
          0.6340315120130934,
          0.6463194806702792,
          0.6586074493274652,
          0.670895417984651,
          0.6831833866418369,
          0.6954713552990227,
          0.7077593239562087,
          0.7200472926133945,
          0.7323352612705804,
          0.7446232299277663,
          0.7569111985849521,
          0.769199167242138,
          0.7814871358993238,
          0.7937751045565098,
          0.8060630732136956,
          0.8183510418708815,
          0.8306390105280674,
          0.8429269791852533,
          0.8552149478424391,
          0.8675029164996251,
          0.8797908851568109,
          0.8920788538139968,
          0.9043668224711826,
          0.9166547911283686,
          0.9289427597855544,
          0.9412307284427402,
          0.9535186970999262,
          0.965806665757112,
          0.9780946344142979,
          0.9903826030714837,
          1.0026705717286697,
          1.0149585403858556,
          1.0272465090430414,
          1.039534477700227,
          1.0518224463574133,
          1.064110415014599,
          1.0763983836717848,
          1.088686352328971,
          1.1009743209861567,
          1.1132622896433424,
          1.1255502583005286,
          1.1378382269577143,
          1.1501261956149,
          1.1624141642720862,
          1.174702132929272,
          1.1869901015864577,
          1.1992780702436439,
          1.2115660389008296,
          1.2238540075580153,
          1.2361419762152015,
          1.2484299448723872,
          1.260717913529573,
          1.2730058821867591,
          1.2852938508439449,
          1.2975818195011306,
          1.3098697881583168,
          1.3221577568155025,
          1.3344457254726882,
          1.346733694129874,
          1.3590216627870602,
          1.371309631444246,
          1.3835976001014316,
          1.3958855687586178,
          1.4081735374158035,
          1.4204615060729893,
          1.4327494747301754,
          1.4450374433873612,
          1.457325412044547,
          1.469613380701733,
          1.4819013493589188,
          1.4941893180161046,
          1.5064772866732907,
          1.5187652553304765,
          1.5310532239876622,
          1.5433411926448484,
          1.555629161302034,
          1.5679171299592198,
          1.580205098616406,
          1.5924930672735917,
          1.6047810359307775,
          1.6170690045879637,
          1.6293569732451494
         ],
         "type": "scatter"
        }
       ],
       "layout": {
        "template": {
         "data": {
          "histogram2dcontour": [
           {
            "type": "histogram2dcontour",
            "colorbar": {
             "outlinewidth": 0,
             "ticks": ""
            },
            "colorscale": [
             [
              0.0,
              "#0d0887"
             ],
             [
              0.1111111111111111,
              "#46039f"
             ],
             [
              0.2222222222222222,
              "#7201a8"
             ],
             [
              0.3333333333333333,
              "#9c179e"
             ],
             [
              0.4444444444444444,
              "#bd3786"
             ],
             [
              0.5555555555555556,
              "#d8576b"
             ],
             [
              0.6666666666666666,
              "#ed7953"
             ],
             [
              0.7777777777777778,
              "#fb9f3a"
             ],
             [
              0.8888888888888888,
              "#fdca26"
             ],
             [
              1.0,
              "#f0f921"
             ]
            ]
           }
          ],
          "choropleth": [
           {
            "type": "choropleth",
            "colorbar": {
             "outlinewidth": 0,
             "ticks": ""
            }
           }
          ],
          "histogram2d": [
           {
            "type": "histogram2d",
            "colorbar": {
             "outlinewidth": 0,
             "ticks": ""
            },
            "colorscale": [
             [
              0.0,
              "#0d0887"
             ],
             [
              0.1111111111111111,
              "#46039f"
             ],
             [
              0.2222222222222222,
              "#7201a8"
             ],
             [
              0.3333333333333333,
              "#9c179e"
             ],
             [
              0.4444444444444444,
              "#bd3786"
             ],
             [
              0.5555555555555556,
              "#d8576b"
             ],
             [
              0.6666666666666666,
              "#ed7953"
             ],
             [
              0.7777777777777778,
              "#fb9f3a"
             ],
             [
              0.8888888888888888,
              "#fdca26"
             ],
             [
              1.0,
              "#f0f921"
             ]
            ]
           }
          ],
          "heatmap": [
           {
            "type": "heatmap",
            "colorbar": {
             "outlinewidth": 0,
             "ticks": ""
            },
            "colorscale": [
             [
              0.0,
              "#0d0887"
             ],
             [
              0.1111111111111111,
              "#46039f"
             ],
             [
              0.2222222222222222,
              "#7201a8"
             ],
             [
              0.3333333333333333,
              "#9c179e"
             ],
             [
              0.4444444444444444,
              "#bd3786"
             ],
             [
              0.5555555555555556,
              "#d8576b"
             ],
             [
              0.6666666666666666,
              "#ed7953"
             ],
             [
              0.7777777777777778,
              "#fb9f3a"
             ],
             [
              0.8888888888888888,
              "#fdca26"
             ],
             [
              1.0,
              "#f0f921"
             ]
            ]
           }
          ],
          "heatmapgl": [
           {
            "type": "heatmapgl",
            "colorbar": {
             "outlinewidth": 0,
             "ticks": ""
            },
            "colorscale": [
             [
              0.0,
              "#0d0887"
             ],
             [
              0.1111111111111111,
              "#46039f"
             ],
             [
              0.2222222222222222,
              "#7201a8"
             ],
             [
              0.3333333333333333,
              "#9c179e"
             ],
             [
              0.4444444444444444,
              "#bd3786"
             ],
             [
              0.5555555555555556,
              "#d8576b"
             ],
             [
              0.6666666666666666,
              "#ed7953"
             ],
             [
              0.7777777777777778,
              "#fb9f3a"
             ],
             [
              0.8888888888888888,
              "#fdca26"
             ],
             [
              1.0,
              "#f0f921"
             ]
            ]
           }
          ],
          "contourcarpet": [
           {
            "type": "contourcarpet",
            "colorbar": {
             "outlinewidth": 0,
             "ticks": ""
            }
           }
          ],
          "contour": [
           {
            "type": "contour",
            "colorbar": {
             "outlinewidth": 0,
             "ticks": ""
            },
            "colorscale": [
             [
              0.0,
              "#0d0887"
             ],
             [
              0.1111111111111111,
              "#46039f"
             ],
             [
              0.2222222222222222,
              "#7201a8"
             ],
             [
              0.3333333333333333,
              "#9c179e"
             ],
             [
              0.4444444444444444,
              "#bd3786"
             ],
             [
              0.5555555555555556,
              "#d8576b"
             ],
             [
              0.6666666666666666,
              "#ed7953"
             ],
             [
              0.7777777777777778,
              "#fb9f3a"
             ],
             [
              0.8888888888888888,
              "#fdca26"
             ],
             [
              1.0,
              "#f0f921"
             ]
            ]
           }
          ],
          "surface": [
           {
            "type": "surface",
            "colorbar": {
             "outlinewidth": 0,
             "ticks": ""
            },
            "colorscale": [
             [
              0.0,
              "#0d0887"
             ],
             [
              0.1111111111111111,
              "#46039f"
             ],
             [
              0.2222222222222222,
              "#7201a8"
             ],
             [
              0.3333333333333333,
              "#9c179e"
             ],
             [
              0.4444444444444444,
              "#bd3786"
             ],
             [
              0.5555555555555556,
              "#d8576b"
             ],
             [
              0.6666666666666666,
              "#ed7953"
             ],
             [
              0.7777777777777778,
              "#fb9f3a"
             ],
             [
              0.8888888888888888,
              "#fdca26"
             ],
             [
              1.0,
              "#f0f921"
             ]
            ]
           }
          ],
          "mesh3d": [
           {
            "type": "mesh3d",
            "colorbar": {
             "outlinewidth": 0,
             "ticks": ""
            }
           }
          ],
          "scatter": [
           {
            "marker": {
             "line": {
              "color": "#283442"
             }
            },
            "type": "scatter"
           }
          ],
          "parcoords": [
           {
            "type": "parcoords",
            "line": {
             "colorbar": {
              "outlinewidth": 0,
              "ticks": ""
             }
            }
           }
          ],
          "scatterpolargl": [
           {
            "type": "scatterpolargl",
            "marker": {
             "colorbar": {
              "outlinewidth": 0,
              "ticks": ""
             }
            }
           }
          ],
          "bar": [
           {
            "error_x": {
             "color": "#f2f5fa"
            },
            "error_y": {
             "color": "#f2f5fa"
            },
            "marker": {
             "line": {
              "color": "rgb(17,17,17)",
              "width": 0.5
             },
             "pattern": {
              "fillmode": "overlay",
              "size": 10,
              "solidity": 0.2
             }
            },
            "type": "bar"
           }
          ],
          "scattergeo": [
           {
            "type": "scattergeo",
            "marker": {
             "colorbar": {
              "outlinewidth": 0,
              "ticks": ""
             }
            }
           }
          ],
          "scatterpolar": [
           {
            "type": "scatterpolar",
            "marker": {
             "colorbar": {
              "outlinewidth": 0,
              "ticks": ""
             }
            }
           }
          ],
          "histogram": [
           {
            "marker": {
             "pattern": {
              "fillmode": "overlay",
              "size": 10,
              "solidity": 0.2
             }
            },
            "type": "histogram"
           }
          ],
          "scattergl": [
           {
            "marker": {
             "line": {
              "color": "#283442"
             }
            },
            "type": "scattergl"
           }
          ],
          "scatter3d": [
           {
            "type": "scatter3d",
            "line": {
             "colorbar": {
              "outlinewidth": 0,
              "ticks": ""
             }
            },
            "marker": {
             "colorbar": {
              "outlinewidth": 0,
              "ticks": ""
             }
            }
           }
          ],
          "scattermapbox": [
           {
            "type": "scattermapbox",
            "marker": {
             "colorbar": {
              "outlinewidth": 0,
              "ticks": ""
             }
            }
           }
          ],
          "scatterternary": [
           {
            "type": "scatterternary",
            "marker": {
             "colorbar": {
              "outlinewidth": 0,
              "ticks": ""
             }
            }
           }
          ],
          "scattercarpet": [
           {
            "type": "scattercarpet",
            "marker": {
             "colorbar": {
              "outlinewidth": 0,
              "ticks": ""
             }
            }
           }
          ],
          "carpet": [
           {
            "aaxis": {
             "endlinecolor": "#A2B1C6",
             "gridcolor": "#506784",
             "linecolor": "#506784",
             "minorgridcolor": "#506784",
             "startlinecolor": "#A2B1C6"
            },
            "baxis": {
             "endlinecolor": "#A2B1C6",
             "gridcolor": "#506784",
             "linecolor": "#506784",
             "minorgridcolor": "#506784",
             "startlinecolor": "#A2B1C6"
            },
            "type": "carpet"
           }
          ],
          "table": [
           {
            "cells": {
             "fill": {
              "color": "#506784"
             },
             "line": {
              "color": "rgb(17,17,17)"
             }
            },
            "header": {
             "fill": {
              "color": "#2a3f5f"
             },
             "line": {
              "color": "rgb(17,17,17)"
             }
            },
            "type": "table"
           }
          ],
          "barpolar": [
           {
            "marker": {
             "line": {
              "color": "rgb(17,17,17)",
              "width": 0.5
             },
             "pattern": {
              "fillmode": "overlay",
              "size": 10,
              "solidity": 0.2
             }
            },
            "type": "barpolar"
           }
          ],
          "pie": [
           {
            "automargin": true,
            "type": "pie"
           }
          ]
         },
         "layout": {
          "autotypenumbers": "strict",
          "colorway": [
           "#636efa",
           "#EF553B",
           "#00cc96",
           "#ab63fa",
           "#FFA15A",
           "#19d3f3",
           "#FF6692",
           "#B6E880",
           "#FF97FF",
           "#FECB52"
          ],
          "font": {
           "color": "#f2f5fa"
          },
          "hovermode": "closest",
          "hoverlabel": {
           "align": "left"
          },
          "paper_bgcolor": "rgb(17,17,17)",
          "plot_bgcolor": "rgb(17,17,17)",
          "polar": {
           "bgcolor": "rgb(17,17,17)",
           "angularaxis": {
            "gridcolor": "#506784",
            "linecolor": "#506784",
            "ticks": ""
           },
           "radialaxis": {
            "gridcolor": "#506784",
            "linecolor": "#506784",
            "ticks": ""
           }
          },
          "ternary": {
           "bgcolor": "rgb(17,17,17)",
           "aaxis": {
            "gridcolor": "#506784",
            "linecolor": "#506784",
            "ticks": ""
           },
           "baxis": {
            "gridcolor": "#506784",
            "linecolor": "#506784",
            "ticks": ""
           },
           "caxis": {
            "gridcolor": "#506784",
            "linecolor": "#506784",
            "ticks": ""
           }
          },
          "coloraxis": {
           "colorbar": {
            "outlinewidth": 0,
            "ticks": ""
           }
          },
          "colorscale": {
           "sequential": [
            [
             0.0,
             "#0d0887"
            ],
            [
             0.1111111111111111,
             "#46039f"
            ],
            [
             0.2222222222222222,
             "#7201a8"
            ],
            [
             0.3333333333333333,
             "#9c179e"
            ],
            [
             0.4444444444444444,
             "#bd3786"
            ],
            [
             0.5555555555555556,
             "#d8576b"
            ],
            [
             0.6666666666666666,
             "#ed7953"
            ],
            [
             0.7777777777777778,
             "#fb9f3a"
            ],
            [
             0.8888888888888888,
             "#fdca26"
            ],
            [
             1.0,
             "#f0f921"
            ]
           ],
           "sequentialminus": [
            [
             0.0,
             "#0d0887"
            ],
            [
             0.1111111111111111,
             "#46039f"
            ],
            [
             0.2222222222222222,
             "#7201a8"
            ],
            [
             0.3333333333333333,
             "#9c179e"
            ],
            [
             0.4444444444444444,
             "#bd3786"
            ],
            [
             0.5555555555555556,
             "#d8576b"
            ],
            [
             0.6666666666666666,
             "#ed7953"
            ],
            [
             0.7777777777777778,
             "#fb9f3a"
            ],
            [
             0.8888888888888888,
             "#fdca26"
            ],
            [
             1.0,
             "#f0f921"
            ]
           ],
           "diverging": [
            [
             0,
             "#8e0152"
            ],
            [
             0.1,
             "#c51b7d"
            ],
            [
             0.2,
             "#de77ae"
            ],
            [
             0.3,
             "#f1b6da"
            ],
            [
             0.4,
             "#fde0ef"
            ],
            [
             0.5,
             "#f7f7f7"
            ],
            [
             0.6,
             "#e6f5d0"
            ],
            [
             0.7,
             "#b8e186"
            ],
            [
             0.8,
             "#7fbc41"
            ],
            [
             0.9,
             "#4d9221"
            ],
            [
             1,
             "#276419"
            ]
           ]
          },
          "xaxis": {
           "gridcolor": "#283442",
           "linecolor": "#506784",
           "ticks": "",
           "title": {
            "standoff": 15
           },
           "zerolinecolor": "#283442",
           "automargin": true,
           "zerolinewidth": 2
          },
          "yaxis": {
           "gridcolor": "#283442",
           "linecolor": "#506784",
           "ticks": "",
           "title": {
            "standoff": 15
           },
           "zerolinecolor": "#283442",
           "automargin": true,
           "zerolinewidth": 2
          },
          "scene": {
           "xaxis": {
            "backgroundcolor": "rgb(17,17,17)",
            "gridcolor": "#506784",
            "linecolor": "#506784",
            "showbackground": true,
            "ticks": "",
            "zerolinecolor": "#C8D4E3",
            "gridwidth": 2
           },
           "yaxis": {
            "backgroundcolor": "rgb(17,17,17)",
            "gridcolor": "#506784",
            "linecolor": "#506784",
            "showbackground": true,
            "ticks": "",
            "zerolinecolor": "#C8D4E3",
            "gridwidth": 2
           },
           "zaxis": {
            "backgroundcolor": "rgb(17,17,17)",
            "gridcolor": "#506784",
            "linecolor": "#506784",
            "showbackground": true,
            "ticks": "",
            "zerolinecolor": "#C8D4E3",
            "gridwidth": 2
           }
          },
          "shapedefaults": {
           "line": {
            "color": "#f2f5fa"
           }
          },
          "annotationdefaults": {
           "arrowcolor": "#f2f5fa",
           "arrowhead": 0,
           "arrowwidth": 1
          },
          "geo": {
           "bgcolor": "rgb(17,17,17)",
           "landcolor": "rgb(17,17,17)",
           "subunitcolor": "#506784",
           "showland": true,
           "showlakes": true,
           "lakecolor": "rgb(17,17,17)"
          },
          "title": {
           "x": 0.05
          },
          "updatemenudefaults": {
           "bgcolor": "#506784",
           "borderwidth": 0
          },
          "sliderdefaults": {
           "bgcolor": "#C8D4E3",
           "borderwidth": 1,
           "bordercolor": "rgb(17,17,17)",
           "tickwidth": 0
          },
          "mapbox": {
           "style": "dark"
          }
         }
        },
        "xaxis": {
         "anchor": "y",
         "domain": [
          0.0,
          1.0
         ],
         "title": {
          "text": "Elapsed Time [s]"
         }
        },
        "yaxis": {
         "anchor": "x",
         "domain": [
          0.0,
          1.0
         ],
         "title": {
          "text": "Natural Log Term"
         }
        },
        "legend": {
         "tracegroupgap": 0
        },
        "margin": {
         "t": 60
        }
       },
       "config": {
        "plotlyServerURL": "https://plot.ly"
       }
      },
      "text/html": [
       "<div>                            <div id=\"b8527a3d-bb45-42f2-9be2-89ad4c96c538\" class=\"plotly-graph-div\" style=\"height:525px; width:100%;\"></div>            <script type=\"text/javascript\">                require([\"plotly\"], function(Plotly) {                    window.PLOTLYENV=window.PLOTLYENV || {};                                    if (document.getElementById(\"b8527a3d-bb45-42f2-9be2-89ad4c96c538\")) {                    Plotly.newPlot(                        \"b8527a3d-bb45-42f2-9be2-89ad4c96c538\",                        [{\"hovertemplate\":\"Elapsed_Time=%{x}\\u003cbr\\u003eLn=%{y}\\u003cextra\\u003e\\u003c\\u002fextra\\u003e\",\"legendgroup\":\"\",\"marker\":{\"color\":\"#636efa\",\"symbol\":\"circle\"},\"mode\":\"markers\",\"name\":\"\",\"orientation\":\"v\",\"showlegend\":false,\"x\":[0,10,20,30,40,50,60,70,80,90,100,110,120,130,140,150,160,170,180,190,200,210,220,230,240,250,260,270,280,290,300,310,320,330,340,350,360,370,380,390,400,410,420,430,440,450,460,470,480,490,500,510,520,530,540,550,560,570,580,590,600,610,620,630,640,650,660,670,680,690,700,710,720,730,740,750,760,770,780,790,800,810,820,830,840,850,860,870,880,890,900,910,920,930,940,950,960,970,980,990,1000,1010,1020,1030,1040,1050,1060,1070,1080,1090,1100,1110,1120,1130,1140,1150,1160,1170,1180,1190,1200,1210,1220,1230,1240,1250,1260,1270,1280,1290,1300,1310,1320],\"xaxis\":\"x\",\"y\":[0.0,0.012442244718362354,0.025562430015895494,0.038328893772062375,0.05072570823173459,0.06345860165234278,0.07635571488851702,0.08923612616262104,0.10172188285266294,0.11436550683218986,0.1269787034923141,0.13994783822988222,0.1524953391209464,0.16500248966697612,0.17766805240406644,0.19049609167720238,0.20266072811111815,0.21518519887000306,0.22786852366221252,0.2404993217059933,0.25307351095248376,0.26514516244025776,0.2775878755650028,0.2904138023703634,0.3024890859450235,0.3149440285656764,0.32755605531202736,0.3398531795930008,0.35206251271460975,0.3646666495696121,0.37718465644902655,0.38936118785572954,0.40168781672337794,0.4139120229874597,0.4265469699650416,0.4388180742218595,0.4512416311781072,0.46328292783001684,0.4760161408980302,0.4880853524824681,0.500302011318947,0.512669764681252,0.5251923968688124,0.5372939048176184,0.5495436550474805,0.5619453245544865,0.5739011679502813,0.5863060819127767,0.5988668126829803,0.6109630432294826,0.6232073859970583,0.6352837366180915,0.6471841047376612,0.6602107017097758,0.6720815132576949,0.6840949355727485,0.6965943204389305,0.7082196380701905,0.720677907902277,0.7329407599182666,0.7449989939012042,0.7575656530360634,0.7695606316134497,0.7817012382749173,0.7939910525931723,0.8060544515987269,0.8240406566505935,0.8364743546646363,0.8482730467310093,0.8602126117016103,0.8727017745984365,0.884938413480633,0.897326644588261,0.9090291164067577,0.9212956578636635,0.9337145379620267,0.9458533230147378,0.9576998054700135,0.9696883112292843,0.9818222869902745,0.9936476791322041,1.0060777242024188,1.0177264366332779,1.0299867842866741,1.0423993158219065,1.0544815190381873,1.0667114890571157,1.078594674702897,1.090620770378088,1.1027932553074267,1.1151157373384706,1.1270689971810908,1.139166867756901,1.1514128909656227,1.1632684952540109,1.1758151349126396,1.1879653875762146,1.2002650865511673,1.2121485376385221,1.2241749051783555,1.2363476686313961,1.2486704360928949,1.2605492878710007,1.272570944829657,1.284738882342114,1.297056704213464,1.309528149087884,1.320887001164088,1.333018545396118,1.345299073244574,1.3570740414495093,1.3696554540320351,1.3817224976413733,1.3939369352119182,1.4056114149646162,1.4174237997490988,1.4307931313683835,1.4421918299646048,1.454447024796949,1.466120159687891,1.4794174007166154,1.491387461346253,1.5035025419781198,1.5157661996510945,1.5281821239008146,1.5391739701068647,1.5518858285068797,1.563142824230664,1.5761650686506845,1.5877003223166068,1.6002089890012143,1.61287610652901,1.6248452918970842],\"yaxis\":\"y\",\"type\":\"scatter\"},{\"mode\":\"lines\",\"name\":\"Linear Fit\",\"x\":[0,10,20,30,40,50,60,70,80,90,100,110,120,130,140,150,160,170,180,190,200,210,220,230,240,250,260,270,280,290,300,310,320,330,340,350,360,370,380,390,400,410,420,430,440,450,460,470,480,490,500,510,520,530,540,550,560,570,580,590,600,610,620,630,640,650,660,670,680,690,700,710,720,730,740,750,760,770,780,790,800,810,820,830,840,850,860,870,880,890,900,910,920,930,940,950,960,970,980,990,1000,1010,1020,1030,1040,1050,1060,1070,1080,1090,1100,1110,1120,1130,1140,1150,1160,1170,1180,1190,1200,1210,1220,1230,1240,1250,1260,1270,1280,1290,1300,1310,1320],\"y\":[0.007345110496613683,0.01963307915379956,0.03192104781098544,0.04420901646817131,0.05649698512535719,0.06878495378254307,0.08107292243972894,0.09336089109691481,0.1056488597541007,0.11793682841128657,0.13022479706847245,0.14251276572565832,0.1548007343828442,0.16708870304003007,0.17937667169721594,0.19166464035440184,0.2039526090115877,0.21624057766877358,0.22852854632595945,0.24081651498314532,0.2531044836403312,0.26539245229751707,0.27768042095470297,0.2899683896118888,0.3022563582690747,0.3145443269262606,0.32683229558344645,0.33912026424063235,0.3514082328978182,0.3636962015550041,0.37598417021219,0.38827213886937584,0.40056010752656174,0.4128480761837476,0.4251360448409335,0.4374240134981194,0.4497119821553052,0.4619999508124911,0.47428791946967697,0.48657588812686287,0.4988638567840487,0.5111518254412346,0.5234397940984205,0.5357277627556064,0.5480157314127923,0.5603037000699781,0.5725916687271639,0.5848796373843499,0.5971676060415357,0.6094555746987216,0.6217435433559075,0.6340315120130934,0.6463194806702792,0.6586074493274652,0.670895417984651,0.6831833866418369,0.6954713552990227,0.7077593239562087,0.7200472926133945,0.7323352612705804,0.7446232299277663,0.7569111985849521,0.769199167242138,0.7814871358993238,0.7937751045565098,0.8060630732136956,0.8183510418708815,0.8306390105280674,0.8429269791852533,0.8552149478424391,0.8675029164996251,0.8797908851568109,0.8920788538139968,0.9043668224711826,0.9166547911283686,0.9289427597855544,0.9412307284427402,0.9535186970999262,0.965806665757112,0.9780946344142979,0.9903826030714837,1.0026705717286697,1.0149585403858556,1.0272465090430414,1.039534477700227,1.0518224463574133,1.064110415014599,1.0763983836717848,1.088686352328971,1.1009743209861567,1.1132622896433424,1.1255502583005286,1.1378382269577143,1.1501261956149,1.1624141642720862,1.174702132929272,1.1869901015864577,1.1992780702436439,1.2115660389008296,1.2238540075580153,1.2361419762152015,1.2484299448723872,1.260717913529573,1.2730058821867591,1.2852938508439449,1.2975818195011306,1.3098697881583168,1.3221577568155025,1.3344457254726882,1.346733694129874,1.3590216627870602,1.371309631444246,1.3835976001014316,1.3958855687586178,1.4081735374158035,1.4204615060729893,1.4327494747301754,1.4450374433873612,1.457325412044547,1.469613380701733,1.4819013493589188,1.4941893180161046,1.5064772866732907,1.5187652553304765,1.5310532239876622,1.5433411926448484,1.555629161302034,1.5679171299592198,1.580205098616406,1.5924930672735917,1.6047810359307775,1.6170690045879637,1.6293569732451494],\"type\":\"scatter\"}],                        {\"template\":{\"data\":{\"histogram2dcontour\":[{\"type\":\"histogram2dcontour\",\"colorbar\":{\"outlinewidth\":0,\"ticks\":\"\"},\"colorscale\":[[0.0,\"#0d0887\"],[0.1111111111111111,\"#46039f\"],[0.2222222222222222,\"#7201a8\"],[0.3333333333333333,\"#9c179e\"],[0.4444444444444444,\"#bd3786\"],[0.5555555555555556,\"#d8576b\"],[0.6666666666666666,\"#ed7953\"],[0.7777777777777778,\"#fb9f3a\"],[0.8888888888888888,\"#fdca26\"],[1.0,\"#f0f921\"]]}],\"choropleth\":[{\"type\":\"choropleth\",\"colorbar\":{\"outlinewidth\":0,\"ticks\":\"\"}}],\"histogram2d\":[{\"type\":\"histogram2d\",\"colorbar\":{\"outlinewidth\":0,\"ticks\":\"\"},\"colorscale\":[[0.0,\"#0d0887\"],[0.1111111111111111,\"#46039f\"],[0.2222222222222222,\"#7201a8\"],[0.3333333333333333,\"#9c179e\"],[0.4444444444444444,\"#bd3786\"],[0.5555555555555556,\"#d8576b\"],[0.6666666666666666,\"#ed7953\"],[0.7777777777777778,\"#fb9f3a\"],[0.8888888888888888,\"#fdca26\"],[1.0,\"#f0f921\"]]}],\"heatmap\":[{\"type\":\"heatmap\",\"colorbar\":{\"outlinewidth\":0,\"ticks\":\"\"},\"colorscale\":[[0.0,\"#0d0887\"],[0.1111111111111111,\"#46039f\"],[0.2222222222222222,\"#7201a8\"],[0.3333333333333333,\"#9c179e\"],[0.4444444444444444,\"#bd3786\"],[0.5555555555555556,\"#d8576b\"],[0.6666666666666666,\"#ed7953\"],[0.7777777777777778,\"#fb9f3a\"],[0.8888888888888888,\"#fdca26\"],[1.0,\"#f0f921\"]]}],\"heatmapgl\":[{\"type\":\"heatmapgl\",\"colorbar\":{\"outlinewidth\":0,\"ticks\":\"\"},\"colorscale\":[[0.0,\"#0d0887\"],[0.1111111111111111,\"#46039f\"],[0.2222222222222222,\"#7201a8\"],[0.3333333333333333,\"#9c179e\"],[0.4444444444444444,\"#bd3786\"],[0.5555555555555556,\"#d8576b\"],[0.6666666666666666,\"#ed7953\"],[0.7777777777777778,\"#fb9f3a\"],[0.8888888888888888,\"#fdca26\"],[1.0,\"#f0f921\"]]}],\"contourcarpet\":[{\"type\":\"contourcarpet\",\"colorbar\":{\"outlinewidth\":0,\"ticks\":\"\"}}],\"contour\":[{\"type\":\"contour\",\"colorbar\":{\"outlinewidth\":0,\"ticks\":\"\"},\"colorscale\":[[0.0,\"#0d0887\"],[0.1111111111111111,\"#46039f\"],[0.2222222222222222,\"#7201a8\"],[0.3333333333333333,\"#9c179e\"],[0.4444444444444444,\"#bd3786\"],[0.5555555555555556,\"#d8576b\"],[0.6666666666666666,\"#ed7953\"],[0.7777777777777778,\"#fb9f3a\"],[0.8888888888888888,\"#fdca26\"],[1.0,\"#f0f921\"]]}],\"surface\":[{\"type\":\"surface\",\"colorbar\":{\"outlinewidth\":0,\"ticks\":\"\"},\"colorscale\":[[0.0,\"#0d0887\"],[0.1111111111111111,\"#46039f\"],[0.2222222222222222,\"#7201a8\"],[0.3333333333333333,\"#9c179e\"],[0.4444444444444444,\"#bd3786\"],[0.5555555555555556,\"#d8576b\"],[0.6666666666666666,\"#ed7953\"],[0.7777777777777778,\"#fb9f3a\"],[0.8888888888888888,\"#fdca26\"],[1.0,\"#f0f921\"]]}],\"mesh3d\":[{\"type\":\"mesh3d\",\"colorbar\":{\"outlinewidth\":0,\"ticks\":\"\"}}],\"scatter\":[{\"marker\":{\"line\":{\"color\":\"#283442\"}},\"type\":\"scatter\"}],\"parcoords\":[{\"type\":\"parcoords\",\"line\":{\"colorbar\":{\"outlinewidth\":0,\"ticks\":\"\"}}}],\"scatterpolargl\":[{\"type\":\"scatterpolargl\",\"marker\":{\"colorbar\":{\"outlinewidth\":0,\"ticks\":\"\"}}}],\"bar\":[{\"error_x\":{\"color\":\"#f2f5fa\"},\"error_y\":{\"color\":\"#f2f5fa\"},\"marker\":{\"line\":{\"color\":\"rgb(17,17,17)\",\"width\":0.5},\"pattern\":{\"fillmode\":\"overlay\",\"size\":10,\"solidity\":0.2}},\"type\":\"bar\"}],\"scattergeo\":[{\"type\":\"scattergeo\",\"marker\":{\"colorbar\":{\"outlinewidth\":0,\"ticks\":\"\"}}}],\"scatterpolar\":[{\"type\":\"scatterpolar\",\"marker\":{\"colorbar\":{\"outlinewidth\":0,\"ticks\":\"\"}}}],\"histogram\":[{\"marker\":{\"pattern\":{\"fillmode\":\"overlay\",\"size\":10,\"solidity\":0.2}},\"type\":\"histogram\"}],\"scattergl\":[{\"marker\":{\"line\":{\"color\":\"#283442\"}},\"type\":\"scattergl\"}],\"scatter3d\":[{\"type\":\"scatter3d\",\"line\":{\"colorbar\":{\"outlinewidth\":0,\"ticks\":\"\"}},\"marker\":{\"colorbar\":{\"outlinewidth\":0,\"ticks\":\"\"}}}],\"scattermapbox\":[{\"type\":\"scattermapbox\",\"marker\":{\"colorbar\":{\"outlinewidth\":0,\"ticks\":\"\"}}}],\"scatterternary\":[{\"type\":\"scatterternary\",\"marker\":{\"colorbar\":{\"outlinewidth\":0,\"ticks\":\"\"}}}],\"scattercarpet\":[{\"type\":\"scattercarpet\",\"marker\":{\"colorbar\":{\"outlinewidth\":0,\"ticks\":\"\"}}}],\"carpet\":[{\"aaxis\":{\"endlinecolor\":\"#A2B1C6\",\"gridcolor\":\"#506784\",\"linecolor\":\"#506784\",\"minorgridcolor\":\"#506784\",\"startlinecolor\":\"#A2B1C6\"},\"baxis\":{\"endlinecolor\":\"#A2B1C6\",\"gridcolor\":\"#506784\",\"linecolor\":\"#506784\",\"minorgridcolor\":\"#506784\",\"startlinecolor\":\"#A2B1C6\"},\"type\":\"carpet\"}],\"table\":[{\"cells\":{\"fill\":{\"color\":\"#506784\"},\"line\":{\"color\":\"rgb(17,17,17)\"}},\"header\":{\"fill\":{\"color\":\"#2a3f5f\"},\"line\":{\"color\":\"rgb(17,17,17)\"}},\"type\":\"table\"}],\"barpolar\":[{\"marker\":{\"line\":{\"color\":\"rgb(17,17,17)\",\"width\":0.5},\"pattern\":{\"fillmode\":\"overlay\",\"size\":10,\"solidity\":0.2}},\"type\":\"barpolar\"}],\"pie\":[{\"automargin\":true,\"type\":\"pie\"}]},\"layout\":{\"autotypenumbers\":\"strict\",\"colorway\":[\"#636efa\",\"#EF553B\",\"#00cc96\",\"#ab63fa\",\"#FFA15A\",\"#19d3f3\",\"#FF6692\",\"#B6E880\",\"#FF97FF\",\"#FECB52\"],\"font\":{\"color\":\"#f2f5fa\"},\"hovermode\":\"closest\",\"hoverlabel\":{\"align\":\"left\"},\"paper_bgcolor\":\"rgb(17,17,17)\",\"plot_bgcolor\":\"rgb(17,17,17)\",\"polar\":{\"bgcolor\":\"rgb(17,17,17)\",\"angularaxis\":{\"gridcolor\":\"#506784\",\"linecolor\":\"#506784\",\"ticks\":\"\"},\"radialaxis\":{\"gridcolor\":\"#506784\",\"linecolor\":\"#506784\",\"ticks\":\"\"}},\"ternary\":{\"bgcolor\":\"rgb(17,17,17)\",\"aaxis\":{\"gridcolor\":\"#506784\",\"linecolor\":\"#506784\",\"ticks\":\"\"},\"baxis\":{\"gridcolor\":\"#506784\",\"linecolor\":\"#506784\",\"ticks\":\"\"},\"caxis\":{\"gridcolor\":\"#506784\",\"linecolor\":\"#506784\",\"ticks\":\"\"}},\"coloraxis\":{\"colorbar\":{\"outlinewidth\":0,\"ticks\":\"\"}},\"colorscale\":{\"sequential\":[[0.0,\"#0d0887\"],[0.1111111111111111,\"#46039f\"],[0.2222222222222222,\"#7201a8\"],[0.3333333333333333,\"#9c179e\"],[0.4444444444444444,\"#bd3786\"],[0.5555555555555556,\"#d8576b\"],[0.6666666666666666,\"#ed7953\"],[0.7777777777777778,\"#fb9f3a\"],[0.8888888888888888,\"#fdca26\"],[1.0,\"#f0f921\"]],\"sequentialminus\":[[0.0,\"#0d0887\"],[0.1111111111111111,\"#46039f\"],[0.2222222222222222,\"#7201a8\"],[0.3333333333333333,\"#9c179e\"],[0.4444444444444444,\"#bd3786\"],[0.5555555555555556,\"#d8576b\"],[0.6666666666666666,\"#ed7953\"],[0.7777777777777778,\"#fb9f3a\"],[0.8888888888888888,\"#fdca26\"],[1.0,\"#f0f921\"]],\"diverging\":[[0,\"#8e0152\"],[0.1,\"#c51b7d\"],[0.2,\"#de77ae\"],[0.3,\"#f1b6da\"],[0.4,\"#fde0ef\"],[0.5,\"#f7f7f7\"],[0.6,\"#e6f5d0\"],[0.7,\"#b8e186\"],[0.8,\"#7fbc41\"],[0.9,\"#4d9221\"],[1,\"#276419\"]]},\"xaxis\":{\"gridcolor\":\"#283442\",\"linecolor\":\"#506784\",\"ticks\":\"\",\"title\":{\"standoff\":15},\"zerolinecolor\":\"#283442\",\"automargin\":true,\"zerolinewidth\":2},\"yaxis\":{\"gridcolor\":\"#283442\",\"linecolor\":\"#506784\",\"ticks\":\"\",\"title\":{\"standoff\":15},\"zerolinecolor\":\"#283442\",\"automargin\":true,\"zerolinewidth\":2},\"scene\":{\"xaxis\":{\"backgroundcolor\":\"rgb(17,17,17)\",\"gridcolor\":\"#506784\",\"linecolor\":\"#506784\",\"showbackground\":true,\"ticks\":\"\",\"zerolinecolor\":\"#C8D4E3\",\"gridwidth\":2},\"yaxis\":{\"backgroundcolor\":\"rgb(17,17,17)\",\"gridcolor\":\"#506784\",\"linecolor\":\"#506784\",\"showbackground\":true,\"ticks\":\"\",\"zerolinecolor\":\"#C8D4E3\",\"gridwidth\":2},\"zaxis\":{\"backgroundcolor\":\"rgb(17,17,17)\",\"gridcolor\":\"#506784\",\"linecolor\":\"#506784\",\"showbackground\":true,\"ticks\":\"\",\"zerolinecolor\":\"#C8D4E3\",\"gridwidth\":2}},\"shapedefaults\":{\"line\":{\"color\":\"#f2f5fa\"}},\"annotationdefaults\":{\"arrowcolor\":\"#f2f5fa\",\"arrowhead\":0,\"arrowwidth\":1},\"geo\":{\"bgcolor\":\"rgb(17,17,17)\",\"landcolor\":\"rgb(17,17,17)\",\"subunitcolor\":\"#506784\",\"showland\":true,\"showlakes\":true,\"lakecolor\":\"rgb(17,17,17)\"},\"title\":{\"x\":0.05},\"updatemenudefaults\":{\"bgcolor\":\"#506784\",\"borderwidth\":0},\"sliderdefaults\":{\"bgcolor\":\"#C8D4E3\",\"borderwidth\":1,\"bordercolor\":\"rgb(17,17,17)\",\"tickwidth\":0},\"mapbox\":{\"style\":\"dark\"}}},\"xaxis\":{\"anchor\":\"y\",\"domain\":[0.0,1.0],\"title\":{\"text\":\"Elapsed Time [s]\"}},\"yaxis\":{\"anchor\":\"x\",\"domain\":[0.0,1.0],\"title\":{\"text\":\"Natural Log Term\"}},\"legend\":{\"tracegroupgap\":0},\"margin\":{\"t\":60}},                        {\"responsive\": true}                    ).then(function(){\n",
       "                            \n",
       "var gd = document.getElementById('b8527a3d-bb45-42f2-9be2-89ad4c96c538');\n",
       "var x = new MutationObserver(function (mutations, observer) {{\n",
       "        var display = window.getComputedStyle(gd).display;\n",
       "        if (!display || display === 'none') {{\n",
       "            console.log([gd, 'removed!']);\n",
       "            Plotly.purge(gd);\n",
       "            observer.disconnect();\n",
       "        }}\n",
       "}});\n",
       "\n",
       "// Listen for the removal of the full notebook cells\n",
       "var notebookContainer = gd.closest('#notebook-container');\n",
       "if (notebookContainer) {{\n",
       "    x.observe(notebookContainer, {childList: true});\n",
       "}}\n",
       "\n",
       "// Listen for the clearing of the current output cell\n",
       "var outputEl = gd.closest('.output');\n",
       "if (outputEl) {{\n",
       "    x.observe(outputEl, {childList: true});\n",
       "}}\n",
       "\n",
       "                        })                };                });            </script>        </div>"
      ]
     },
     "metadata": {},
     "output_type": "display_data"
    }
   ],
   "execution_count": 55
  },
  {
   "metadata": {},
   "cell_type": "markdown",
   "source": "Fun fact: The plots created with plotly are interactive! You can click and drag over a section of the graph and it will zoom in for you. To go back to the original graph, just double click on the graph.",
   "id": "a0cf8c8f0ad28859"
  },
  {
   "metadata": {},
   "cell_type": "markdown",
   "source": "Below, I have included a new column that puts the lapsed time in terms of minutes so that it can be more easily understood by viewers.",
   "id": "17ca49ebda38f08b"
  },
  {
   "metadata": {
    "ExecuteTime": {
     "end_time": "2024-05-13T12:56:26.155667Z",
     "start_time": "2024-05-13T12:56:26.146576Z"
    }
   },
   "cell_type": "code",
   "source": "df_data['Time_Min'] = df_data['Elapsed_Time']/60",
   "id": "6c40fe943754f7a",
   "outputs": [
    {
     "name": "stderr",
     "output_type": "stream",
     "text": [
      "C:\\Users\\menziegh\\AppData\\Local\\Temp\\ipykernel_18612\\863985342.py:1: SettingWithCopyWarning:\n",
      "\n",
      "\n",
      "A value is trying to be set on a copy of a slice from a DataFrame.\n",
      "Try using .loc[row_indexer,col_indexer] = value instead\n",
      "\n",
      "See the caveats in the documentation: https://pandas.pydata.org/pandas-docs/stable/user_guide/indexing.html#returning-a-view-versus-a-copy\n",
      "\n"
     ]
    }
   ],
   "execution_count": 56
  },
  {
   "metadata": {
    "ExecuteTime": {
     "end_time": "2024-05-13T12:56:26.459627Z",
     "start_time": "2024-05-13T12:56:26.359004Z"
    }
   },
   "cell_type": "code",
   "source": [
    "fig2 = px.scatter(df_data, x = 'Time_Min', y = 'Ln')\n",
    "\n",
    "fig2.add_trace(\n",
    "    go.Scatter(x=df_data['Time_Min'], y=df_data['Predicted'],\n",
    "               mode = 'lines',\n",
    "               name = 'Linear Fit',\n",
    "               fillcolor='rgba(0,0,0,0)')\n",
    ")\n",
    "\n",
    "fig2.update_layout(\n",
    "    xaxis_title='Elapsed Time [min]',\n",
    "    yaxis_title='Natural Log Term'\n",
    ")\n",
    "\n",
    "fig2.show()"
   ],
   "id": "a9aa804832e7ea97",
   "outputs": [
    {
     "data": {
      "application/vnd.plotly.v1+json": {
       "data": [
        {
         "hovertemplate": "Time_Min=%{x}<br>Ln=%{y}<extra></extra>",
         "legendgroup": "",
         "marker": {
          "color": "#636efa",
          "symbol": "circle"
         },
         "mode": "markers",
         "name": "",
         "orientation": "v",
         "showlegend": false,
         "x": [
          0.0,
          0.16666666666666666,
          0.3333333333333333,
          0.5,
          0.6666666666666666,
          0.8333333333333334,
          1.0,
          1.1666666666666667,
          1.3333333333333333,
          1.5,
          1.6666666666666667,
          1.8333333333333333,
          2.0,
          2.1666666666666665,
          2.3333333333333335,
          2.5,
          2.6666666666666665,
          2.8333333333333335,
          3.0,
          3.1666666666666665,
          3.3333333333333335,
          3.5,
          3.6666666666666665,
          3.8333333333333335,
          4.0,
          4.166666666666667,
          4.333333333333333,
          4.5,
          4.666666666666667,
          4.833333333333333,
          5.0,
          5.166666666666667,
          5.333333333333333,
          5.5,
          5.666666666666667,
          5.833333333333333,
          6.0,
          6.166666666666667,
          6.333333333333333,
          6.5,
          6.666666666666667,
          6.833333333333333,
          7.0,
          7.166666666666667,
          7.333333333333333,
          7.5,
          7.666666666666667,
          7.833333333333333,
          8.0,
          8.166666666666666,
          8.333333333333334,
          8.5,
          8.666666666666666,
          8.833333333333334,
          9.0,
          9.166666666666666,
          9.333333333333334,
          9.5,
          9.666666666666666,
          9.833333333333334,
          10.0,
          10.166666666666666,
          10.333333333333334,
          10.5,
          10.666666666666666,
          10.833333333333334,
          11.0,
          11.166666666666666,
          11.333333333333334,
          11.5,
          11.666666666666666,
          11.833333333333334,
          12.0,
          12.166666666666666,
          12.333333333333334,
          12.5,
          12.666666666666666,
          12.833333333333334,
          13.0,
          13.166666666666666,
          13.333333333333334,
          13.5,
          13.666666666666666,
          13.833333333333334,
          14.0,
          14.166666666666666,
          14.333333333333334,
          14.5,
          14.666666666666666,
          14.833333333333334,
          15.0,
          15.166666666666666,
          15.333333333333334,
          15.5,
          15.666666666666666,
          15.833333333333334,
          16.0,
          16.166666666666668,
          16.333333333333332,
          16.5,
          16.666666666666668,
          16.833333333333332,
          17.0,
          17.166666666666668,
          17.333333333333332,
          17.5,
          17.666666666666668,
          17.833333333333332,
          18.0,
          18.166666666666668,
          18.333333333333332,
          18.5,
          18.666666666666668,
          18.833333333333332,
          19.0,
          19.166666666666668,
          19.333333333333332,
          19.5,
          19.666666666666668,
          19.833333333333332,
          20.0,
          20.166666666666668,
          20.333333333333332,
          20.5,
          20.666666666666668,
          20.833333333333332,
          21.0,
          21.166666666666668,
          21.333333333333332,
          21.5,
          21.666666666666668,
          21.833333333333332,
          22.0
         ],
         "xaxis": "x",
         "y": [
          0.0,
          0.012442244718362354,
          0.025562430015895494,
          0.038328893772062375,
          0.05072570823173459,
          0.06345860165234278,
          0.07635571488851702,
          0.08923612616262104,
          0.10172188285266294,
          0.11436550683218986,
          0.1269787034923141,
          0.13994783822988222,
          0.1524953391209464,
          0.16500248966697612,
          0.17766805240406644,
          0.19049609167720238,
          0.20266072811111815,
          0.21518519887000306,
          0.22786852366221252,
          0.2404993217059933,
          0.25307351095248376,
          0.26514516244025776,
          0.2775878755650028,
          0.2904138023703634,
          0.3024890859450235,
          0.3149440285656764,
          0.32755605531202736,
          0.3398531795930008,
          0.35206251271460975,
          0.3646666495696121,
          0.37718465644902655,
          0.38936118785572954,
          0.40168781672337794,
          0.4139120229874597,
          0.4265469699650416,
          0.4388180742218595,
          0.4512416311781072,
          0.46328292783001684,
          0.4760161408980302,
          0.4880853524824681,
          0.500302011318947,
          0.512669764681252,
          0.5251923968688124,
          0.5372939048176184,
          0.5495436550474805,
          0.5619453245544865,
          0.5739011679502813,
          0.5863060819127767,
          0.5988668126829803,
          0.6109630432294826,
          0.6232073859970583,
          0.6352837366180915,
          0.6471841047376612,
          0.6602107017097758,
          0.6720815132576949,
          0.6840949355727485,
          0.6965943204389305,
          0.7082196380701905,
          0.720677907902277,
          0.7329407599182666,
          0.7449989939012042,
          0.7575656530360634,
          0.7695606316134497,
          0.7817012382749173,
          0.7939910525931723,
          0.8060544515987269,
          0.8240406566505935,
          0.8364743546646363,
          0.8482730467310093,
          0.8602126117016103,
          0.8727017745984365,
          0.884938413480633,
          0.897326644588261,
          0.9090291164067577,
          0.9212956578636635,
          0.9337145379620267,
          0.9458533230147378,
          0.9576998054700135,
          0.9696883112292843,
          0.9818222869902745,
          0.9936476791322041,
          1.0060777242024188,
          1.0177264366332779,
          1.0299867842866741,
          1.0423993158219065,
          1.0544815190381873,
          1.0667114890571157,
          1.078594674702897,
          1.090620770378088,
          1.1027932553074267,
          1.1151157373384706,
          1.1270689971810908,
          1.139166867756901,
          1.1514128909656227,
          1.1632684952540109,
          1.1758151349126396,
          1.1879653875762146,
          1.2002650865511673,
          1.2121485376385221,
          1.2241749051783555,
          1.2363476686313961,
          1.2486704360928949,
          1.2605492878710007,
          1.272570944829657,
          1.284738882342114,
          1.297056704213464,
          1.309528149087884,
          1.320887001164088,
          1.333018545396118,
          1.345299073244574,
          1.3570740414495093,
          1.3696554540320351,
          1.3817224976413733,
          1.3939369352119182,
          1.4056114149646162,
          1.4174237997490988,
          1.4307931313683835,
          1.4421918299646048,
          1.454447024796949,
          1.466120159687891,
          1.4794174007166154,
          1.491387461346253,
          1.5035025419781198,
          1.5157661996510945,
          1.5281821239008146,
          1.5391739701068647,
          1.5518858285068797,
          1.563142824230664,
          1.5761650686506845,
          1.5877003223166068,
          1.6002089890012143,
          1.61287610652901,
          1.6248452918970842
         ],
         "yaxis": "y",
         "type": "scatter"
        },
        {
         "fillcolor": "rgba(0,0,0,0)",
         "mode": "lines",
         "name": "Linear Fit",
         "x": [
          0.0,
          0.16666666666666666,
          0.3333333333333333,
          0.5,
          0.6666666666666666,
          0.8333333333333334,
          1.0,
          1.1666666666666667,
          1.3333333333333333,
          1.5,
          1.6666666666666667,
          1.8333333333333333,
          2.0,
          2.1666666666666665,
          2.3333333333333335,
          2.5,
          2.6666666666666665,
          2.8333333333333335,
          3.0,
          3.1666666666666665,
          3.3333333333333335,
          3.5,
          3.6666666666666665,
          3.8333333333333335,
          4.0,
          4.166666666666667,
          4.333333333333333,
          4.5,
          4.666666666666667,
          4.833333333333333,
          5.0,
          5.166666666666667,
          5.333333333333333,
          5.5,
          5.666666666666667,
          5.833333333333333,
          6.0,
          6.166666666666667,
          6.333333333333333,
          6.5,
          6.666666666666667,
          6.833333333333333,
          7.0,
          7.166666666666667,
          7.333333333333333,
          7.5,
          7.666666666666667,
          7.833333333333333,
          8.0,
          8.166666666666666,
          8.333333333333334,
          8.5,
          8.666666666666666,
          8.833333333333334,
          9.0,
          9.166666666666666,
          9.333333333333334,
          9.5,
          9.666666666666666,
          9.833333333333334,
          10.0,
          10.166666666666666,
          10.333333333333334,
          10.5,
          10.666666666666666,
          10.833333333333334,
          11.0,
          11.166666666666666,
          11.333333333333334,
          11.5,
          11.666666666666666,
          11.833333333333334,
          12.0,
          12.166666666666666,
          12.333333333333334,
          12.5,
          12.666666666666666,
          12.833333333333334,
          13.0,
          13.166666666666666,
          13.333333333333334,
          13.5,
          13.666666666666666,
          13.833333333333334,
          14.0,
          14.166666666666666,
          14.333333333333334,
          14.5,
          14.666666666666666,
          14.833333333333334,
          15.0,
          15.166666666666666,
          15.333333333333334,
          15.5,
          15.666666666666666,
          15.833333333333334,
          16.0,
          16.166666666666668,
          16.333333333333332,
          16.5,
          16.666666666666668,
          16.833333333333332,
          17.0,
          17.166666666666668,
          17.333333333333332,
          17.5,
          17.666666666666668,
          17.833333333333332,
          18.0,
          18.166666666666668,
          18.333333333333332,
          18.5,
          18.666666666666668,
          18.833333333333332,
          19.0,
          19.166666666666668,
          19.333333333333332,
          19.5,
          19.666666666666668,
          19.833333333333332,
          20.0,
          20.166666666666668,
          20.333333333333332,
          20.5,
          20.666666666666668,
          20.833333333333332,
          21.0,
          21.166666666666668,
          21.333333333333332,
          21.5,
          21.666666666666668,
          21.833333333333332,
          22.0
         ],
         "y": [
          0.007345110496613683,
          0.01963307915379956,
          0.03192104781098544,
          0.04420901646817131,
          0.05649698512535719,
          0.06878495378254307,
          0.08107292243972894,
          0.09336089109691481,
          0.1056488597541007,
          0.11793682841128657,
          0.13022479706847245,
          0.14251276572565832,
          0.1548007343828442,
          0.16708870304003007,
          0.17937667169721594,
          0.19166464035440184,
          0.2039526090115877,
          0.21624057766877358,
          0.22852854632595945,
          0.24081651498314532,
          0.2531044836403312,
          0.26539245229751707,
          0.27768042095470297,
          0.2899683896118888,
          0.3022563582690747,
          0.3145443269262606,
          0.32683229558344645,
          0.33912026424063235,
          0.3514082328978182,
          0.3636962015550041,
          0.37598417021219,
          0.38827213886937584,
          0.40056010752656174,
          0.4128480761837476,
          0.4251360448409335,
          0.4374240134981194,
          0.4497119821553052,
          0.4619999508124911,
          0.47428791946967697,
          0.48657588812686287,
          0.4988638567840487,
          0.5111518254412346,
          0.5234397940984205,
          0.5357277627556064,
          0.5480157314127923,
          0.5603037000699781,
          0.5725916687271639,
          0.5848796373843499,
          0.5971676060415357,
          0.6094555746987216,
          0.6217435433559075,
          0.6340315120130934,
          0.6463194806702792,
          0.6586074493274652,
          0.670895417984651,
          0.6831833866418369,
          0.6954713552990227,
          0.7077593239562087,
          0.7200472926133945,
          0.7323352612705804,
          0.7446232299277663,
          0.7569111985849521,
          0.769199167242138,
          0.7814871358993238,
          0.7937751045565098,
          0.8060630732136956,
          0.8183510418708815,
          0.8306390105280674,
          0.8429269791852533,
          0.8552149478424391,
          0.8675029164996251,
          0.8797908851568109,
          0.8920788538139968,
          0.9043668224711826,
          0.9166547911283686,
          0.9289427597855544,
          0.9412307284427402,
          0.9535186970999262,
          0.965806665757112,
          0.9780946344142979,
          0.9903826030714837,
          1.0026705717286697,
          1.0149585403858556,
          1.0272465090430414,
          1.039534477700227,
          1.0518224463574133,
          1.064110415014599,
          1.0763983836717848,
          1.088686352328971,
          1.1009743209861567,
          1.1132622896433424,
          1.1255502583005286,
          1.1378382269577143,
          1.1501261956149,
          1.1624141642720862,
          1.174702132929272,
          1.1869901015864577,
          1.1992780702436439,
          1.2115660389008296,
          1.2238540075580153,
          1.2361419762152015,
          1.2484299448723872,
          1.260717913529573,
          1.2730058821867591,
          1.2852938508439449,
          1.2975818195011306,
          1.3098697881583168,
          1.3221577568155025,
          1.3344457254726882,
          1.346733694129874,
          1.3590216627870602,
          1.371309631444246,
          1.3835976001014316,
          1.3958855687586178,
          1.4081735374158035,
          1.4204615060729893,
          1.4327494747301754,
          1.4450374433873612,
          1.457325412044547,
          1.469613380701733,
          1.4819013493589188,
          1.4941893180161046,
          1.5064772866732907,
          1.5187652553304765,
          1.5310532239876622,
          1.5433411926448484,
          1.555629161302034,
          1.5679171299592198,
          1.580205098616406,
          1.5924930672735917,
          1.6047810359307775,
          1.6170690045879637,
          1.6293569732451494
         ],
         "type": "scatter"
        }
       ],
       "layout": {
        "template": {
         "data": {
          "histogram2dcontour": [
           {
            "type": "histogram2dcontour",
            "colorbar": {
             "outlinewidth": 0,
             "ticks": ""
            },
            "colorscale": [
             [
              0.0,
              "#0d0887"
             ],
             [
              0.1111111111111111,
              "#46039f"
             ],
             [
              0.2222222222222222,
              "#7201a8"
             ],
             [
              0.3333333333333333,
              "#9c179e"
             ],
             [
              0.4444444444444444,
              "#bd3786"
             ],
             [
              0.5555555555555556,
              "#d8576b"
             ],
             [
              0.6666666666666666,
              "#ed7953"
             ],
             [
              0.7777777777777778,
              "#fb9f3a"
             ],
             [
              0.8888888888888888,
              "#fdca26"
             ],
             [
              1.0,
              "#f0f921"
             ]
            ]
           }
          ],
          "choropleth": [
           {
            "type": "choropleth",
            "colorbar": {
             "outlinewidth": 0,
             "ticks": ""
            }
           }
          ],
          "histogram2d": [
           {
            "type": "histogram2d",
            "colorbar": {
             "outlinewidth": 0,
             "ticks": ""
            },
            "colorscale": [
             [
              0.0,
              "#0d0887"
             ],
             [
              0.1111111111111111,
              "#46039f"
             ],
             [
              0.2222222222222222,
              "#7201a8"
             ],
             [
              0.3333333333333333,
              "#9c179e"
             ],
             [
              0.4444444444444444,
              "#bd3786"
             ],
             [
              0.5555555555555556,
              "#d8576b"
             ],
             [
              0.6666666666666666,
              "#ed7953"
             ],
             [
              0.7777777777777778,
              "#fb9f3a"
             ],
             [
              0.8888888888888888,
              "#fdca26"
             ],
             [
              1.0,
              "#f0f921"
             ]
            ]
           }
          ],
          "heatmap": [
           {
            "type": "heatmap",
            "colorbar": {
             "outlinewidth": 0,
             "ticks": ""
            },
            "colorscale": [
             [
              0.0,
              "#0d0887"
             ],
             [
              0.1111111111111111,
              "#46039f"
             ],
             [
              0.2222222222222222,
              "#7201a8"
             ],
             [
              0.3333333333333333,
              "#9c179e"
             ],
             [
              0.4444444444444444,
              "#bd3786"
             ],
             [
              0.5555555555555556,
              "#d8576b"
             ],
             [
              0.6666666666666666,
              "#ed7953"
             ],
             [
              0.7777777777777778,
              "#fb9f3a"
             ],
             [
              0.8888888888888888,
              "#fdca26"
             ],
             [
              1.0,
              "#f0f921"
             ]
            ]
           }
          ],
          "heatmapgl": [
           {
            "type": "heatmapgl",
            "colorbar": {
             "outlinewidth": 0,
             "ticks": ""
            },
            "colorscale": [
             [
              0.0,
              "#0d0887"
             ],
             [
              0.1111111111111111,
              "#46039f"
             ],
             [
              0.2222222222222222,
              "#7201a8"
             ],
             [
              0.3333333333333333,
              "#9c179e"
             ],
             [
              0.4444444444444444,
              "#bd3786"
             ],
             [
              0.5555555555555556,
              "#d8576b"
             ],
             [
              0.6666666666666666,
              "#ed7953"
             ],
             [
              0.7777777777777778,
              "#fb9f3a"
             ],
             [
              0.8888888888888888,
              "#fdca26"
             ],
             [
              1.0,
              "#f0f921"
             ]
            ]
           }
          ],
          "contourcarpet": [
           {
            "type": "contourcarpet",
            "colorbar": {
             "outlinewidth": 0,
             "ticks": ""
            }
           }
          ],
          "contour": [
           {
            "type": "contour",
            "colorbar": {
             "outlinewidth": 0,
             "ticks": ""
            },
            "colorscale": [
             [
              0.0,
              "#0d0887"
             ],
             [
              0.1111111111111111,
              "#46039f"
             ],
             [
              0.2222222222222222,
              "#7201a8"
             ],
             [
              0.3333333333333333,
              "#9c179e"
             ],
             [
              0.4444444444444444,
              "#bd3786"
             ],
             [
              0.5555555555555556,
              "#d8576b"
             ],
             [
              0.6666666666666666,
              "#ed7953"
             ],
             [
              0.7777777777777778,
              "#fb9f3a"
             ],
             [
              0.8888888888888888,
              "#fdca26"
             ],
             [
              1.0,
              "#f0f921"
             ]
            ]
           }
          ],
          "surface": [
           {
            "type": "surface",
            "colorbar": {
             "outlinewidth": 0,
             "ticks": ""
            },
            "colorscale": [
             [
              0.0,
              "#0d0887"
             ],
             [
              0.1111111111111111,
              "#46039f"
             ],
             [
              0.2222222222222222,
              "#7201a8"
             ],
             [
              0.3333333333333333,
              "#9c179e"
             ],
             [
              0.4444444444444444,
              "#bd3786"
             ],
             [
              0.5555555555555556,
              "#d8576b"
             ],
             [
              0.6666666666666666,
              "#ed7953"
             ],
             [
              0.7777777777777778,
              "#fb9f3a"
             ],
             [
              0.8888888888888888,
              "#fdca26"
             ],
             [
              1.0,
              "#f0f921"
             ]
            ]
           }
          ],
          "mesh3d": [
           {
            "type": "mesh3d",
            "colorbar": {
             "outlinewidth": 0,
             "ticks": ""
            }
           }
          ],
          "scatter": [
           {
            "marker": {
             "line": {
              "color": "#283442"
             }
            },
            "type": "scatter"
           }
          ],
          "parcoords": [
           {
            "type": "parcoords",
            "line": {
             "colorbar": {
              "outlinewidth": 0,
              "ticks": ""
             }
            }
           }
          ],
          "scatterpolargl": [
           {
            "type": "scatterpolargl",
            "marker": {
             "colorbar": {
              "outlinewidth": 0,
              "ticks": ""
             }
            }
           }
          ],
          "bar": [
           {
            "error_x": {
             "color": "#f2f5fa"
            },
            "error_y": {
             "color": "#f2f5fa"
            },
            "marker": {
             "line": {
              "color": "rgb(17,17,17)",
              "width": 0.5
             },
             "pattern": {
              "fillmode": "overlay",
              "size": 10,
              "solidity": 0.2
             }
            },
            "type": "bar"
           }
          ],
          "scattergeo": [
           {
            "type": "scattergeo",
            "marker": {
             "colorbar": {
              "outlinewidth": 0,
              "ticks": ""
             }
            }
           }
          ],
          "scatterpolar": [
           {
            "type": "scatterpolar",
            "marker": {
             "colorbar": {
              "outlinewidth": 0,
              "ticks": ""
             }
            }
           }
          ],
          "histogram": [
           {
            "marker": {
             "pattern": {
              "fillmode": "overlay",
              "size": 10,
              "solidity": 0.2
             }
            },
            "type": "histogram"
           }
          ],
          "scattergl": [
           {
            "marker": {
             "line": {
              "color": "#283442"
             }
            },
            "type": "scattergl"
           }
          ],
          "scatter3d": [
           {
            "type": "scatter3d",
            "line": {
             "colorbar": {
              "outlinewidth": 0,
              "ticks": ""
             }
            },
            "marker": {
             "colorbar": {
              "outlinewidth": 0,
              "ticks": ""
             }
            }
           }
          ],
          "scattermapbox": [
           {
            "type": "scattermapbox",
            "marker": {
             "colorbar": {
              "outlinewidth": 0,
              "ticks": ""
             }
            }
           }
          ],
          "scatterternary": [
           {
            "type": "scatterternary",
            "marker": {
             "colorbar": {
              "outlinewidth": 0,
              "ticks": ""
             }
            }
           }
          ],
          "scattercarpet": [
           {
            "type": "scattercarpet",
            "marker": {
             "colorbar": {
              "outlinewidth": 0,
              "ticks": ""
             }
            }
           }
          ],
          "carpet": [
           {
            "aaxis": {
             "endlinecolor": "#A2B1C6",
             "gridcolor": "#506784",
             "linecolor": "#506784",
             "minorgridcolor": "#506784",
             "startlinecolor": "#A2B1C6"
            },
            "baxis": {
             "endlinecolor": "#A2B1C6",
             "gridcolor": "#506784",
             "linecolor": "#506784",
             "minorgridcolor": "#506784",
             "startlinecolor": "#A2B1C6"
            },
            "type": "carpet"
           }
          ],
          "table": [
           {
            "cells": {
             "fill": {
              "color": "#506784"
             },
             "line": {
              "color": "rgb(17,17,17)"
             }
            },
            "header": {
             "fill": {
              "color": "#2a3f5f"
             },
             "line": {
              "color": "rgb(17,17,17)"
             }
            },
            "type": "table"
           }
          ],
          "barpolar": [
           {
            "marker": {
             "line": {
              "color": "rgb(17,17,17)",
              "width": 0.5
             },
             "pattern": {
              "fillmode": "overlay",
              "size": 10,
              "solidity": 0.2
             }
            },
            "type": "barpolar"
           }
          ],
          "pie": [
           {
            "automargin": true,
            "type": "pie"
           }
          ]
         },
         "layout": {
          "autotypenumbers": "strict",
          "colorway": [
           "#636efa",
           "#EF553B",
           "#00cc96",
           "#ab63fa",
           "#FFA15A",
           "#19d3f3",
           "#FF6692",
           "#B6E880",
           "#FF97FF",
           "#FECB52"
          ],
          "font": {
           "color": "#f2f5fa"
          },
          "hovermode": "closest",
          "hoverlabel": {
           "align": "left"
          },
          "paper_bgcolor": "rgb(17,17,17)",
          "plot_bgcolor": "rgb(17,17,17)",
          "polar": {
           "bgcolor": "rgb(17,17,17)",
           "angularaxis": {
            "gridcolor": "#506784",
            "linecolor": "#506784",
            "ticks": ""
           },
           "radialaxis": {
            "gridcolor": "#506784",
            "linecolor": "#506784",
            "ticks": ""
           }
          },
          "ternary": {
           "bgcolor": "rgb(17,17,17)",
           "aaxis": {
            "gridcolor": "#506784",
            "linecolor": "#506784",
            "ticks": ""
           },
           "baxis": {
            "gridcolor": "#506784",
            "linecolor": "#506784",
            "ticks": ""
           },
           "caxis": {
            "gridcolor": "#506784",
            "linecolor": "#506784",
            "ticks": ""
           }
          },
          "coloraxis": {
           "colorbar": {
            "outlinewidth": 0,
            "ticks": ""
           }
          },
          "colorscale": {
           "sequential": [
            [
             0.0,
             "#0d0887"
            ],
            [
             0.1111111111111111,
             "#46039f"
            ],
            [
             0.2222222222222222,
             "#7201a8"
            ],
            [
             0.3333333333333333,
             "#9c179e"
            ],
            [
             0.4444444444444444,
             "#bd3786"
            ],
            [
             0.5555555555555556,
             "#d8576b"
            ],
            [
             0.6666666666666666,
             "#ed7953"
            ],
            [
             0.7777777777777778,
             "#fb9f3a"
            ],
            [
             0.8888888888888888,
             "#fdca26"
            ],
            [
             1.0,
             "#f0f921"
            ]
           ],
           "sequentialminus": [
            [
             0.0,
             "#0d0887"
            ],
            [
             0.1111111111111111,
             "#46039f"
            ],
            [
             0.2222222222222222,
             "#7201a8"
            ],
            [
             0.3333333333333333,
             "#9c179e"
            ],
            [
             0.4444444444444444,
             "#bd3786"
            ],
            [
             0.5555555555555556,
             "#d8576b"
            ],
            [
             0.6666666666666666,
             "#ed7953"
            ],
            [
             0.7777777777777778,
             "#fb9f3a"
            ],
            [
             0.8888888888888888,
             "#fdca26"
            ],
            [
             1.0,
             "#f0f921"
            ]
           ],
           "diverging": [
            [
             0,
             "#8e0152"
            ],
            [
             0.1,
             "#c51b7d"
            ],
            [
             0.2,
             "#de77ae"
            ],
            [
             0.3,
             "#f1b6da"
            ],
            [
             0.4,
             "#fde0ef"
            ],
            [
             0.5,
             "#f7f7f7"
            ],
            [
             0.6,
             "#e6f5d0"
            ],
            [
             0.7,
             "#b8e186"
            ],
            [
             0.8,
             "#7fbc41"
            ],
            [
             0.9,
             "#4d9221"
            ],
            [
             1,
             "#276419"
            ]
           ]
          },
          "xaxis": {
           "gridcolor": "#283442",
           "linecolor": "#506784",
           "ticks": "",
           "title": {
            "standoff": 15
           },
           "zerolinecolor": "#283442",
           "automargin": true,
           "zerolinewidth": 2
          },
          "yaxis": {
           "gridcolor": "#283442",
           "linecolor": "#506784",
           "ticks": "",
           "title": {
            "standoff": 15
           },
           "zerolinecolor": "#283442",
           "automargin": true,
           "zerolinewidth": 2
          },
          "scene": {
           "xaxis": {
            "backgroundcolor": "rgb(17,17,17)",
            "gridcolor": "#506784",
            "linecolor": "#506784",
            "showbackground": true,
            "ticks": "",
            "zerolinecolor": "#C8D4E3",
            "gridwidth": 2
           },
           "yaxis": {
            "backgroundcolor": "rgb(17,17,17)",
            "gridcolor": "#506784",
            "linecolor": "#506784",
            "showbackground": true,
            "ticks": "",
            "zerolinecolor": "#C8D4E3",
            "gridwidth": 2
           },
           "zaxis": {
            "backgroundcolor": "rgb(17,17,17)",
            "gridcolor": "#506784",
            "linecolor": "#506784",
            "showbackground": true,
            "ticks": "",
            "zerolinecolor": "#C8D4E3",
            "gridwidth": 2
           }
          },
          "shapedefaults": {
           "line": {
            "color": "#f2f5fa"
           }
          },
          "annotationdefaults": {
           "arrowcolor": "#f2f5fa",
           "arrowhead": 0,
           "arrowwidth": 1
          },
          "geo": {
           "bgcolor": "rgb(17,17,17)",
           "landcolor": "rgb(17,17,17)",
           "subunitcolor": "#506784",
           "showland": true,
           "showlakes": true,
           "lakecolor": "rgb(17,17,17)"
          },
          "title": {
           "x": 0.05
          },
          "updatemenudefaults": {
           "bgcolor": "#506784",
           "borderwidth": 0
          },
          "sliderdefaults": {
           "bgcolor": "#C8D4E3",
           "borderwidth": 1,
           "bordercolor": "rgb(17,17,17)",
           "tickwidth": 0
          },
          "mapbox": {
           "style": "dark"
          }
         }
        },
        "xaxis": {
         "anchor": "y",
         "domain": [
          0.0,
          1.0
         ],
         "title": {
          "text": "Elapsed Time [min]"
         }
        },
        "yaxis": {
         "anchor": "x",
         "domain": [
          0.0,
          1.0
         ],
         "title": {
          "text": "Natural Log Term"
         }
        },
        "legend": {
         "tracegroupgap": 0
        },
        "margin": {
         "t": 60
        }
       },
       "config": {
        "plotlyServerURL": "https://plot.ly"
       }
      },
      "text/html": [
       "<div>                            <div id=\"ff79c7d4-a9e4-426d-b338-0a93fec15f68\" class=\"plotly-graph-div\" style=\"height:525px; width:100%;\"></div>            <script type=\"text/javascript\">                require([\"plotly\"], function(Plotly) {                    window.PLOTLYENV=window.PLOTLYENV || {};                                    if (document.getElementById(\"ff79c7d4-a9e4-426d-b338-0a93fec15f68\")) {                    Plotly.newPlot(                        \"ff79c7d4-a9e4-426d-b338-0a93fec15f68\",                        [{\"hovertemplate\":\"Time_Min=%{x}\\u003cbr\\u003eLn=%{y}\\u003cextra\\u003e\\u003c\\u002fextra\\u003e\",\"legendgroup\":\"\",\"marker\":{\"color\":\"#636efa\",\"symbol\":\"circle\"},\"mode\":\"markers\",\"name\":\"\",\"orientation\":\"v\",\"showlegend\":false,\"x\":[0.0,0.16666666666666666,0.3333333333333333,0.5,0.6666666666666666,0.8333333333333334,1.0,1.1666666666666667,1.3333333333333333,1.5,1.6666666666666667,1.8333333333333333,2.0,2.1666666666666665,2.3333333333333335,2.5,2.6666666666666665,2.8333333333333335,3.0,3.1666666666666665,3.3333333333333335,3.5,3.6666666666666665,3.8333333333333335,4.0,4.166666666666667,4.333333333333333,4.5,4.666666666666667,4.833333333333333,5.0,5.166666666666667,5.333333333333333,5.5,5.666666666666667,5.833333333333333,6.0,6.166666666666667,6.333333333333333,6.5,6.666666666666667,6.833333333333333,7.0,7.166666666666667,7.333333333333333,7.5,7.666666666666667,7.833333333333333,8.0,8.166666666666666,8.333333333333334,8.5,8.666666666666666,8.833333333333334,9.0,9.166666666666666,9.333333333333334,9.5,9.666666666666666,9.833333333333334,10.0,10.166666666666666,10.333333333333334,10.5,10.666666666666666,10.833333333333334,11.0,11.166666666666666,11.333333333333334,11.5,11.666666666666666,11.833333333333334,12.0,12.166666666666666,12.333333333333334,12.5,12.666666666666666,12.833333333333334,13.0,13.166666666666666,13.333333333333334,13.5,13.666666666666666,13.833333333333334,14.0,14.166666666666666,14.333333333333334,14.5,14.666666666666666,14.833333333333334,15.0,15.166666666666666,15.333333333333334,15.5,15.666666666666666,15.833333333333334,16.0,16.166666666666668,16.333333333333332,16.5,16.666666666666668,16.833333333333332,17.0,17.166666666666668,17.333333333333332,17.5,17.666666666666668,17.833333333333332,18.0,18.166666666666668,18.333333333333332,18.5,18.666666666666668,18.833333333333332,19.0,19.166666666666668,19.333333333333332,19.5,19.666666666666668,19.833333333333332,20.0,20.166666666666668,20.333333333333332,20.5,20.666666666666668,20.833333333333332,21.0,21.166666666666668,21.333333333333332,21.5,21.666666666666668,21.833333333333332,22.0],\"xaxis\":\"x\",\"y\":[0.0,0.012442244718362354,0.025562430015895494,0.038328893772062375,0.05072570823173459,0.06345860165234278,0.07635571488851702,0.08923612616262104,0.10172188285266294,0.11436550683218986,0.1269787034923141,0.13994783822988222,0.1524953391209464,0.16500248966697612,0.17766805240406644,0.19049609167720238,0.20266072811111815,0.21518519887000306,0.22786852366221252,0.2404993217059933,0.25307351095248376,0.26514516244025776,0.2775878755650028,0.2904138023703634,0.3024890859450235,0.3149440285656764,0.32755605531202736,0.3398531795930008,0.35206251271460975,0.3646666495696121,0.37718465644902655,0.38936118785572954,0.40168781672337794,0.4139120229874597,0.4265469699650416,0.4388180742218595,0.4512416311781072,0.46328292783001684,0.4760161408980302,0.4880853524824681,0.500302011318947,0.512669764681252,0.5251923968688124,0.5372939048176184,0.5495436550474805,0.5619453245544865,0.5739011679502813,0.5863060819127767,0.5988668126829803,0.6109630432294826,0.6232073859970583,0.6352837366180915,0.6471841047376612,0.6602107017097758,0.6720815132576949,0.6840949355727485,0.6965943204389305,0.7082196380701905,0.720677907902277,0.7329407599182666,0.7449989939012042,0.7575656530360634,0.7695606316134497,0.7817012382749173,0.7939910525931723,0.8060544515987269,0.8240406566505935,0.8364743546646363,0.8482730467310093,0.8602126117016103,0.8727017745984365,0.884938413480633,0.897326644588261,0.9090291164067577,0.9212956578636635,0.9337145379620267,0.9458533230147378,0.9576998054700135,0.9696883112292843,0.9818222869902745,0.9936476791322041,1.0060777242024188,1.0177264366332779,1.0299867842866741,1.0423993158219065,1.0544815190381873,1.0667114890571157,1.078594674702897,1.090620770378088,1.1027932553074267,1.1151157373384706,1.1270689971810908,1.139166867756901,1.1514128909656227,1.1632684952540109,1.1758151349126396,1.1879653875762146,1.2002650865511673,1.2121485376385221,1.2241749051783555,1.2363476686313961,1.2486704360928949,1.2605492878710007,1.272570944829657,1.284738882342114,1.297056704213464,1.309528149087884,1.320887001164088,1.333018545396118,1.345299073244574,1.3570740414495093,1.3696554540320351,1.3817224976413733,1.3939369352119182,1.4056114149646162,1.4174237997490988,1.4307931313683835,1.4421918299646048,1.454447024796949,1.466120159687891,1.4794174007166154,1.491387461346253,1.5035025419781198,1.5157661996510945,1.5281821239008146,1.5391739701068647,1.5518858285068797,1.563142824230664,1.5761650686506845,1.5877003223166068,1.6002089890012143,1.61287610652901,1.6248452918970842],\"yaxis\":\"y\",\"type\":\"scatter\"},{\"fillcolor\":\"rgba(0,0,0,0)\",\"mode\":\"lines\",\"name\":\"Linear Fit\",\"x\":[0.0,0.16666666666666666,0.3333333333333333,0.5,0.6666666666666666,0.8333333333333334,1.0,1.1666666666666667,1.3333333333333333,1.5,1.6666666666666667,1.8333333333333333,2.0,2.1666666666666665,2.3333333333333335,2.5,2.6666666666666665,2.8333333333333335,3.0,3.1666666666666665,3.3333333333333335,3.5,3.6666666666666665,3.8333333333333335,4.0,4.166666666666667,4.333333333333333,4.5,4.666666666666667,4.833333333333333,5.0,5.166666666666667,5.333333333333333,5.5,5.666666666666667,5.833333333333333,6.0,6.166666666666667,6.333333333333333,6.5,6.666666666666667,6.833333333333333,7.0,7.166666666666667,7.333333333333333,7.5,7.666666666666667,7.833333333333333,8.0,8.166666666666666,8.333333333333334,8.5,8.666666666666666,8.833333333333334,9.0,9.166666666666666,9.333333333333334,9.5,9.666666666666666,9.833333333333334,10.0,10.166666666666666,10.333333333333334,10.5,10.666666666666666,10.833333333333334,11.0,11.166666666666666,11.333333333333334,11.5,11.666666666666666,11.833333333333334,12.0,12.166666666666666,12.333333333333334,12.5,12.666666666666666,12.833333333333334,13.0,13.166666666666666,13.333333333333334,13.5,13.666666666666666,13.833333333333334,14.0,14.166666666666666,14.333333333333334,14.5,14.666666666666666,14.833333333333334,15.0,15.166666666666666,15.333333333333334,15.5,15.666666666666666,15.833333333333334,16.0,16.166666666666668,16.333333333333332,16.5,16.666666666666668,16.833333333333332,17.0,17.166666666666668,17.333333333333332,17.5,17.666666666666668,17.833333333333332,18.0,18.166666666666668,18.333333333333332,18.5,18.666666666666668,18.833333333333332,19.0,19.166666666666668,19.333333333333332,19.5,19.666666666666668,19.833333333333332,20.0,20.166666666666668,20.333333333333332,20.5,20.666666666666668,20.833333333333332,21.0,21.166666666666668,21.333333333333332,21.5,21.666666666666668,21.833333333333332,22.0],\"y\":[0.007345110496613683,0.01963307915379956,0.03192104781098544,0.04420901646817131,0.05649698512535719,0.06878495378254307,0.08107292243972894,0.09336089109691481,0.1056488597541007,0.11793682841128657,0.13022479706847245,0.14251276572565832,0.1548007343828442,0.16708870304003007,0.17937667169721594,0.19166464035440184,0.2039526090115877,0.21624057766877358,0.22852854632595945,0.24081651498314532,0.2531044836403312,0.26539245229751707,0.27768042095470297,0.2899683896118888,0.3022563582690747,0.3145443269262606,0.32683229558344645,0.33912026424063235,0.3514082328978182,0.3636962015550041,0.37598417021219,0.38827213886937584,0.40056010752656174,0.4128480761837476,0.4251360448409335,0.4374240134981194,0.4497119821553052,0.4619999508124911,0.47428791946967697,0.48657588812686287,0.4988638567840487,0.5111518254412346,0.5234397940984205,0.5357277627556064,0.5480157314127923,0.5603037000699781,0.5725916687271639,0.5848796373843499,0.5971676060415357,0.6094555746987216,0.6217435433559075,0.6340315120130934,0.6463194806702792,0.6586074493274652,0.670895417984651,0.6831833866418369,0.6954713552990227,0.7077593239562087,0.7200472926133945,0.7323352612705804,0.7446232299277663,0.7569111985849521,0.769199167242138,0.7814871358993238,0.7937751045565098,0.8060630732136956,0.8183510418708815,0.8306390105280674,0.8429269791852533,0.8552149478424391,0.8675029164996251,0.8797908851568109,0.8920788538139968,0.9043668224711826,0.9166547911283686,0.9289427597855544,0.9412307284427402,0.9535186970999262,0.965806665757112,0.9780946344142979,0.9903826030714837,1.0026705717286697,1.0149585403858556,1.0272465090430414,1.039534477700227,1.0518224463574133,1.064110415014599,1.0763983836717848,1.088686352328971,1.1009743209861567,1.1132622896433424,1.1255502583005286,1.1378382269577143,1.1501261956149,1.1624141642720862,1.174702132929272,1.1869901015864577,1.1992780702436439,1.2115660389008296,1.2238540075580153,1.2361419762152015,1.2484299448723872,1.260717913529573,1.2730058821867591,1.2852938508439449,1.2975818195011306,1.3098697881583168,1.3221577568155025,1.3344457254726882,1.346733694129874,1.3590216627870602,1.371309631444246,1.3835976001014316,1.3958855687586178,1.4081735374158035,1.4204615060729893,1.4327494747301754,1.4450374433873612,1.457325412044547,1.469613380701733,1.4819013493589188,1.4941893180161046,1.5064772866732907,1.5187652553304765,1.5310532239876622,1.5433411926448484,1.555629161302034,1.5679171299592198,1.580205098616406,1.5924930672735917,1.6047810359307775,1.6170690045879637,1.6293569732451494],\"type\":\"scatter\"}],                        {\"template\":{\"data\":{\"histogram2dcontour\":[{\"type\":\"histogram2dcontour\",\"colorbar\":{\"outlinewidth\":0,\"ticks\":\"\"},\"colorscale\":[[0.0,\"#0d0887\"],[0.1111111111111111,\"#46039f\"],[0.2222222222222222,\"#7201a8\"],[0.3333333333333333,\"#9c179e\"],[0.4444444444444444,\"#bd3786\"],[0.5555555555555556,\"#d8576b\"],[0.6666666666666666,\"#ed7953\"],[0.7777777777777778,\"#fb9f3a\"],[0.8888888888888888,\"#fdca26\"],[1.0,\"#f0f921\"]]}],\"choropleth\":[{\"type\":\"choropleth\",\"colorbar\":{\"outlinewidth\":0,\"ticks\":\"\"}}],\"histogram2d\":[{\"type\":\"histogram2d\",\"colorbar\":{\"outlinewidth\":0,\"ticks\":\"\"},\"colorscale\":[[0.0,\"#0d0887\"],[0.1111111111111111,\"#46039f\"],[0.2222222222222222,\"#7201a8\"],[0.3333333333333333,\"#9c179e\"],[0.4444444444444444,\"#bd3786\"],[0.5555555555555556,\"#d8576b\"],[0.6666666666666666,\"#ed7953\"],[0.7777777777777778,\"#fb9f3a\"],[0.8888888888888888,\"#fdca26\"],[1.0,\"#f0f921\"]]}],\"heatmap\":[{\"type\":\"heatmap\",\"colorbar\":{\"outlinewidth\":0,\"ticks\":\"\"},\"colorscale\":[[0.0,\"#0d0887\"],[0.1111111111111111,\"#46039f\"],[0.2222222222222222,\"#7201a8\"],[0.3333333333333333,\"#9c179e\"],[0.4444444444444444,\"#bd3786\"],[0.5555555555555556,\"#d8576b\"],[0.6666666666666666,\"#ed7953\"],[0.7777777777777778,\"#fb9f3a\"],[0.8888888888888888,\"#fdca26\"],[1.0,\"#f0f921\"]]}],\"heatmapgl\":[{\"type\":\"heatmapgl\",\"colorbar\":{\"outlinewidth\":0,\"ticks\":\"\"},\"colorscale\":[[0.0,\"#0d0887\"],[0.1111111111111111,\"#46039f\"],[0.2222222222222222,\"#7201a8\"],[0.3333333333333333,\"#9c179e\"],[0.4444444444444444,\"#bd3786\"],[0.5555555555555556,\"#d8576b\"],[0.6666666666666666,\"#ed7953\"],[0.7777777777777778,\"#fb9f3a\"],[0.8888888888888888,\"#fdca26\"],[1.0,\"#f0f921\"]]}],\"contourcarpet\":[{\"type\":\"contourcarpet\",\"colorbar\":{\"outlinewidth\":0,\"ticks\":\"\"}}],\"contour\":[{\"type\":\"contour\",\"colorbar\":{\"outlinewidth\":0,\"ticks\":\"\"},\"colorscale\":[[0.0,\"#0d0887\"],[0.1111111111111111,\"#46039f\"],[0.2222222222222222,\"#7201a8\"],[0.3333333333333333,\"#9c179e\"],[0.4444444444444444,\"#bd3786\"],[0.5555555555555556,\"#d8576b\"],[0.6666666666666666,\"#ed7953\"],[0.7777777777777778,\"#fb9f3a\"],[0.8888888888888888,\"#fdca26\"],[1.0,\"#f0f921\"]]}],\"surface\":[{\"type\":\"surface\",\"colorbar\":{\"outlinewidth\":0,\"ticks\":\"\"},\"colorscale\":[[0.0,\"#0d0887\"],[0.1111111111111111,\"#46039f\"],[0.2222222222222222,\"#7201a8\"],[0.3333333333333333,\"#9c179e\"],[0.4444444444444444,\"#bd3786\"],[0.5555555555555556,\"#d8576b\"],[0.6666666666666666,\"#ed7953\"],[0.7777777777777778,\"#fb9f3a\"],[0.8888888888888888,\"#fdca26\"],[1.0,\"#f0f921\"]]}],\"mesh3d\":[{\"type\":\"mesh3d\",\"colorbar\":{\"outlinewidth\":0,\"ticks\":\"\"}}],\"scatter\":[{\"marker\":{\"line\":{\"color\":\"#283442\"}},\"type\":\"scatter\"}],\"parcoords\":[{\"type\":\"parcoords\",\"line\":{\"colorbar\":{\"outlinewidth\":0,\"ticks\":\"\"}}}],\"scatterpolargl\":[{\"type\":\"scatterpolargl\",\"marker\":{\"colorbar\":{\"outlinewidth\":0,\"ticks\":\"\"}}}],\"bar\":[{\"error_x\":{\"color\":\"#f2f5fa\"},\"error_y\":{\"color\":\"#f2f5fa\"},\"marker\":{\"line\":{\"color\":\"rgb(17,17,17)\",\"width\":0.5},\"pattern\":{\"fillmode\":\"overlay\",\"size\":10,\"solidity\":0.2}},\"type\":\"bar\"}],\"scattergeo\":[{\"type\":\"scattergeo\",\"marker\":{\"colorbar\":{\"outlinewidth\":0,\"ticks\":\"\"}}}],\"scatterpolar\":[{\"type\":\"scatterpolar\",\"marker\":{\"colorbar\":{\"outlinewidth\":0,\"ticks\":\"\"}}}],\"histogram\":[{\"marker\":{\"pattern\":{\"fillmode\":\"overlay\",\"size\":10,\"solidity\":0.2}},\"type\":\"histogram\"}],\"scattergl\":[{\"marker\":{\"line\":{\"color\":\"#283442\"}},\"type\":\"scattergl\"}],\"scatter3d\":[{\"type\":\"scatter3d\",\"line\":{\"colorbar\":{\"outlinewidth\":0,\"ticks\":\"\"}},\"marker\":{\"colorbar\":{\"outlinewidth\":0,\"ticks\":\"\"}}}],\"scattermapbox\":[{\"type\":\"scattermapbox\",\"marker\":{\"colorbar\":{\"outlinewidth\":0,\"ticks\":\"\"}}}],\"scatterternary\":[{\"type\":\"scatterternary\",\"marker\":{\"colorbar\":{\"outlinewidth\":0,\"ticks\":\"\"}}}],\"scattercarpet\":[{\"type\":\"scattercarpet\",\"marker\":{\"colorbar\":{\"outlinewidth\":0,\"ticks\":\"\"}}}],\"carpet\":[{\"aaxis\":{\"endlinecolor\":\"#A2B1C6\",\"gridcolor\":\"#506784\",\"linecolor\":\"#506784\",\"minorgridcolor\":\"#506784\",\"startlinecolor\":\"#A2B1C6\"},\"baxis\":{\"endlinecolor\":\"#A2B1C6\",\"gridcolor\":\"#506784\",\"linecolor\":\"#506784\",\"minorgridcolor\":\"#506784\",\"startlinecolor\":\"#A2B1C6\"},\"type\":\"carpet\"}],\"table\":[{\"cells\":{\"fill\":{\"color\":\"#506784\"},\"line\":{\"color\":\"rgb(17,17,17)\"}},\"header\":{\"fill\":{\"color\":\"#2a3f5f\"},\"line\":{\"color\":\"rgb(17,17,17)\"}},\"type\":\"table\"}],\"barpolar\":[{\"marker\":{\"line\":{\"color\":\"rgb(17,17,17)\",\"width\":0.5},\"pattern\":{\"fillmode\":\"overlay\",\"size\":10,\"solidity\":0.2}},\"type\":\"barpolar\"}],\"pie\":[{\"automargin\":true,\"type\":\"pie\"}]},\"layout\":{\"autotypenumbers\":\"strict\",\"colorway\":[\"#636efa\",\"#EF553B\",\"#00cc96\",\"#ab63fa\",\"#FFA15A\",\"#19d3f3\",\"#FF6692\",\"#B6E880\",\"#FF97FF\",\"#FECB52\"],\"font\":{\"color\":\"#f2f5fa\"},\"hovermode\":\"closest\",\"hoverlabel\":{\"align\":\"left\"},\"paper_bgcolor\":\"rgb(17,17,17)\",\"plot_bgcolor\":\"rgb(17,17,17)\",\"polar\":{\"bgcolor\":\"rgb(17,17,17)\",\"angularaxis\":{\"gridcolor\":\"#506784\",\"linecolor\":\"#506784\",\"ticks\":\"\"},\"radialaxis\":{\"gridcolor\":\"#506784\",\"linecolor\":\"#506784\",\"ticks\":\"\"}},\"ternary\":{\"bgcolor\":\"rgb(17,17,17)\",\"aaxis\":{\"gridcolor\":\"#506784\",\"linecolor\":\"#506784\",\"ticks\":\"\"},\"baxis\":{\"gridcolor\":\"#506784\",\"linecolor\":\"#506784\",\"ticks\":\"\"},\"caxis\":{\"gridcolor\":\"#506784\",\"linecolor\":\"#506784\",\"ticks\":\"\"}},\"coloraxis\":{\"colorbar\":{\"outlinewidth\":0,\"ticks\":\"\"}},\"colorscale\":{\"sequential\":[[0.0,\"#0d0887\"],[0.1111111111111111,\"#46039f\"],[0.2222222222222222,\"#7201a8\"],[0.3333333333333333,\"#9c179e\"],[0.4444444444444444,\"#bd3786\"],[0.5555555555555556,\"#d8576b\"],[0.6666666666666666,\"#ed7953\"],[0.7777777777777778,\"#fb9f3a\"],[0.8888888888888888,\"#fdca26\"],[1.0,\"#f0f921\"]],\"sequentialminus\":[[0.0,\"#0d0887\"],[0.1111111111111111,\"#46039f\"],[0.2222222222222222,\"#7201a8\"],[0.3333333333333333,\"#9c179e\"],[0.4444444444444444,\"#bd3786\"],[0.5555555555555556,\"#d8576b\"],[0.6666666666666666,\"#ed7953\"],[0.7777777777777778,\"#fb9f3a\"],[0.8888888888888888,\"#fdca26\"],[1.0,\"#f0f921\"]],\"diverging\":[[0,\"#8e0152\"],[0.1,\"#c51b7d\"],[0.2,\"#de77ae\"],[0.3,\"#f1b6da\"],[0.4,\"#fde0ef\"],[0.5,\"#f7f7f7\"],[0.6,\"#e6f5d0\"],[0.7,\"#b8e186\"],[0.8,\"#7fbc41\"],[0.9,\"#4d9221\"],[1,\"#276419\"]]},\"xaxis\":{\"gridcolor\":\"#283442\",\"linecolor\":\"#506784\",\"ticks\":\"\",\"title\":{\"standoff\":15},\"zerolinecolor\":\"#283442\",\"automargin\":true,\"zerolinewidth\":2},\"yaxis\":{\"gridcolor\":\"#283442\",\"linecolor\":\"#506784\",\"ticks\":\"\",\"title\":{\"standoff\":15},\"zerolinecolor\":\"#283442\",\"automargin\":true,\"zerolinewidth\":2},\"scene\":{\"xaxis\":{\"backgroundcolor\":\"rgb(17,17,17)\",\"gridcolor\":\"#506784\",\"linecolor\":\"#506784\",\"showbackground\":true,\"ticks\":\"\",\"zerolinecolor\":\"#C8D4E3\",\"gridwidth\":2},\"yaxis\":{\"backgroundcolor\":\"rgb(17,17,17)\",\"gridcolor\":\"#506784\",\"linecolor\":\"#506784\",\"showbackground\":true,\"ticks\":\"\",\"zerolinecolor\":\"#C8D4E3\",\"gridwidth\":2},\"zaxis\":{\"backgroundcolor\":\"rgb(17,17,17)\",\"gridcolor\":\"#506784\",\"linecolor\":\"#506784\",\"showbackground\":true,\"ticks\":\"\",\"zerolinecolor\":\"#C8D4E3\",\"gridwidth\":2}},\"shapedefaults\":{\"line\":{\"color\":\"#f2f5fa\"}},\"annotationdefaults\":{\"arrowcolor\":\"#f2f5fa\",\"arrowhead\":0,\"arrowwidth\":1},\"geo\":{\"bgcolor\":\"rgb(17,17,17)\",\"landcolor\":\"rgb(17,17,17)\",\"subunitcolor\":\"#506784\",\"showland\":true,\"showlakes\":true,\"lakecolor\":\"rgb(17,17,17)\"},\"title\":{\"x\":0.05},\"updatemenudefaults\":{\"bgcolor\":\"#506784\",\"borderwidth\":0},\"sliderdefaults\":{\"bgcolor\":\"#C8D4E3\",\"borderwidth\":1,\"bordercolor\":\"rgb(17,17,17)\",\"tickwidth\":0},\"mapbox\":{\"style\":\"dark\"}}},\"xaxis\":{\"anchor\":\"y\",\"domain\":[0.0,1.0],\"title\":{\"text\":\"Elapsed Time [min]\"}},\"yaxis\":{\"anchor\":\"x\",\"domain\":[0.0,1.0],\"title\":{\"text\":\"Natural Log Term\"}},\"legend\":{\"tracegroupgap\":0},\"margin\":{\"t\":60}},                        {\"responsive\": true}                    ).then(function(){\n",
       "                            \n",
       "var gd = document.getElementById('ff79c7d4-a9e4-426d-b338-0a93fec15f68');\n",
       "var x = new MutationObserver(function (mutations, observer) {{\n",
       "        var display = window.getComputedStyle(gd).display;\n",
       "        if (!display || display === 'none') {{\n",
       "            console.log([gd, 'removed!']);\n",
       "            Plotly.purge(gd);\n",
       "            observer.disconnect();\n",
       "        }}\n",
       "}});\n",
       "\n",
       "// Listen for the removal of the full notebook cells\n",
       "var notebookContainer = gd.closest('#notebook-container');\n",
       "if (notebookContainer) {{\n",
       "    x.observe(notebookContainer, {childList: true});\n",
       "}}\n",
       "\n",
       "// Listen for the clearing of the current output cell\n",
       "var outputEl = gd.closest('.output');\n",
       "if (outputEl) {{\n",
       "    x.observe(outputEl, {childList: true});\n",
       "}}\n",
       "\n",
       "                        })                };                });            </script>        </div>"
      ]
     },
     "metadata": {},
     "output_type": "display_data"
    }
   ],
   "execution_count": 57
  },
  {
   "metadata": {},
   "cell_type": "markdown",
   "source": [
    "# Section 4: Additional Calculations for the Overall Heat Transfer Coefficient\n",
    "\n",
    "Looking back at our equation for the overall heat transfer coefficient, you can see that there are still many variables that have not been defined. \n",
    "\n",
    "The rest depend on your knowledge of the system itself. Therefore, it will require you to look at documentation available for the unit. The lab group defined the following variables."
   ],
   "id": "eedeed77eed89fd4"
  },
  {
   "metadata": {
    "ExecuteTime": {
     "end_time": "2024-05-13T12:56:26.487104Z",
     "start_time": "2024-05-13T12:56:26.470858Z"
    }
   },
   "cell_type": "code",
   "source": [
    "Vdot_in = 1155              # cubic inches/min\n",
    "rho = 0.03629               # lbm/ cubic inches\n",
    "Tank_Vol = 10165.41         # cubic inches\n",
    "OutCoil = 145.4214          # cubic inches\n",
    "Baffles = 70                # cubic inches\n",
    "OutDiam = 0.625             # in\n",
    "LenCoil = 474               # in\n",
    "Cp = 18.25                  # btu/ lbmol C\n",
    "MW = 18.02                  # lbm/ lbmol"
   ],
   "id": "81f547ea54f6b023",
   "outputs": [],
   "execution_count": 58
  },
  {
   "metadata": {},
   "cell_type": "markdown",
   "source": "### Creating the Equations for Necessary Values",
   "id": "fbe201f7bb22875f"
  },
  {
   "metadata": {
    "ExecuteTime": {
     "end_time": "2024-05-13T12:56:26.640298Z",
     "start_time": "2024-05-13T12:56:26.629221Z"
    }
   },
   "cell_type": "code",
   "source": [
    "V = Tank_Vol - OutCoil - Baffles        # cubic inches\n",
    "mdot_in = Vdot_in*rho*(1/60)            # lbm/s\n",
    "MassWater = V*rho                       # lbm\n",
    "SurfArea = np.pi*OutDiam*LenCoil        # square inches"
   ],
   "id": "25a5511c2090f96",
   "outputs": [],
   "execution_count": 59
  },
  {
   "metadata": {
    "ExecuteTime": {
     "end_time": "2024-05-13T12:56:26.665227Z",
     "start_time": "2024-05-13T12:56:26.649527Z"
    }
   },
   "cell_type": "code",
   "source": [
    "Uo = (mdot_in*Cp/SurfArea)*(-1)*np.log(1-(MassWater/mdot_in)*reg.coef_)*(1/MW*1055.06*pow(39.37,2))         # W/ C square meters\n",
    "\n",
    "# 1055.06 is the conversion from btu to joules\n",
    "# power(39.27, 2) is the conversion from inches to meters\n",
    "\n",
    "print(Uo)"
   ],
   "id": "7ae65c172322cc9f",
   "outputs": [
    {
     "name": "stdout",
     "output_type": "stream",
     "text": [
      "[1253.41364075]\n"
     ]
    }
   ],
   "execution_count": 60
  },
  {
   "metadata": {},
   "cell_type": "markdown",
   "source": [
    "### There you have it! You just did most of the calculations (minus uncertainty analysis) for the agitated tank project! \n",
    "\n",
    "### See the next lesson to learn how to parse through units with many more columns!"
   ],
   "id": "9d209c90a3cb0ee5"
  }
 ],
 "metadata": {
  "kernelspec": {
   "display_name": "Python 3",
   "language": "python",
   "name": "python3"
  },
  "language_info": {
   "codemirror_mode": {
    "name": "ipython",
    "version": 2
   },
   "file_extension": ".py",
   "mimetype": "text/x-python",
   "name": "python",
   "nbconvert_exporter": "python",
   "pygments_lexer": "ipython2",
   "version": "2.7.6"
  }
 },
 "nbformat": 4,
 "nbformat_minor": 5
}
